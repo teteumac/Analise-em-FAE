{
 "cells": [
  {
   "cell_type": "code",
   "execution_count": 1,
   "metadata": {},
   "outputs": [
    {
     "name": "stdout",
     "output_type": "stream",
     "text": [
      "Welcome to JupyROOT 6.20/06\n"
     ]
    }
   ],
   "source": [
    "import ROOT"
   ]
  },
  {
   "cell_type": "markdown",
   "metadata": {},
   "source": [
    "Este arquivo contém a medição da massa invariante do dimuon para os eventos selecionados"
   ]
  },
  {
   "cell_type": "code",
   "execution_count": 2,
   "metadata": {},
   "outputs": [
    {
     "name": "stdout",
     "output_type": "stream",
     "text": [
      "\n",
      "\u001b[1mRooFit v3.60 -- Developed by Wouter Verkerke and David Kirkby\u001b[0m \n",
      "                Copyright (C) 2000-2013 NIKHEF, University of California & Stanford University\n",
      "                All rights reserved, please read http://roofit.sourceforge.net/license.txt\n",
      "\n"
     ]
    }
   ],
   "source": [
    "file = ROOT.TFile( '/eos/home-m/matheus/DataSet_lowstat.root' )\n",
    "dataset = file.Get(\"data\")"
   ]
  },
  {
   "cell_type": "markdown",
   "metadata": {},
   "source": [
    "# Definindo o observável do problema  "
   ]
  },
  {
   "cell_type": "markdown",
   "metadata": {},
   "source": [
    "Como estamos diante de um problema unidimensional, e o observável é a massa invariante do sistema dimuônico, vamos usar as ferramentas do *RooFit* extraindo a classe *RooRealVar*"
   ]
  },
  {
   "cell_type": "code",
   "execution_count": 3,
   "metadata": {},
   "outputs": [],
   "source": [
    "mass = ROOT.RooRealVar(\"mass\",\"#mu^{+}#mu^{-} invariant mass\",2.,6.,\"GeV\")"
   ]
  },
  {
   "cell_type": "markdown",
   "metadata": {},
   "source": [
    "# Parametrizando o sinal do $J/\\Psi$"
   ]
  },
  {
   "cell_type": "markdown",
   "metadata": {},
   "source": [
    "Vamos usar o Crystal Ball"
   ]
  },
  {
   "cell_type": "code",
   "execution_count": 4,
   "metadata": {},
   "outputs": [],
   "source": [
    "meanJpsi = ROOT.RooRealVar(\"meanJpsi\",\"The mean of the Jpsi Gaussian\",3.1,2.8,3.2) # J/Psi mean \n",
    "sigmaJpsi = ROOT.RooRealVar(\"sigmaJpsi\",\"The width of the Jpsi Gaussian\",0.3,0.0001,1.) # J/Psi error\n",
    "alphaJpsi = ROOT.RooRealVar(\"alphaJpsi\",\"The alpha of the Jpsi Gaussian\",1.5,-5.,5.) #\n",
    "nJpsi = ROOT.RooRealVar(\"nJpsi\",\"The alpha of the Jpsi Gaussian\",1.5,0.5,5.)"
   ]
  },
  {
   "cell_type": "code",
   "execution_count": 5,
   "metadata": {},
   "outputs": [
    {
     "name": "stdout",
     "output_type": "stream",
     "text": [
      "\n",
      " RooRealVar::meanJpsi = 3.1  L(2.8 - 3.2) \n",
      " \n",
      " RooRealVar::sigmaJpsi = 0.3  L(0.0001 - 1) \n",
      " \n",
      " RooRealVar::alphaJpsi = 1.5  L(-5 - 5) \n",
      " \n",
      " RooRealVar::nJpsi = 1.5  L(0.5 - 5) \n",
      " \n",
      "\n"
     ]
    }
   ],
   "source": [
    "print('\\n',\n",
    "       meanJpsi,'\\n',\n",
    "       sigmaJpsi,'\\n',\n",
    "       alphaJpsi,'\\n',\n",
    "       nJpsi,'\\n' )"
   ]
  },
  {
   "cell_type": "markdown",
   "metadata": {},
   "source": [
    "Definindo uma PDF para o modelo do sinal"
   ]
  },
  {
   "cell_type": "code",
   "execution_count": 6,
   "metadata": {},
   "outputs": [],
   "source": [
    "CBJpsi = ROOT.RooCBShape( \"CBJpsi\",\"The Jpsi Crystall Ball\", mass , meanJpsi , sigmaJpsi , alphaJpsi , nJpsi )"
   ]
  },
  {
   "cell_type": "code",
   "execution_count": 7,
   "metadata": {},
   "outputs": [
    {
     "name": "stdout",
     "output_type": "stream",
     "text": [
      "RooCBShape::CBJpsi[ m=mass m0=meanJpsi sigma=sigmaJpsi alpha=alphaJpsi n=nJpsi ] = 0.011109\n",
      "\n"
     ]
    }
   ],
   "source": [
    "print(CBJpsi)"
   ]
  },
  {
   "cell_type": "markdown",
   "metadata": {},
   "source": [
    "# Parametrização do sinal $\\Psi(2S)$"
   ]
  },
  {
   "cell_type": "markdown",
   "metadata": {},
   "source": [
    "A largura será semelhante ao núcleo $J/\\Psi$ do Crystal Ball (quase gaussiano)"
   ]
  },
  {
   "cell_type": "code",
   "execution_count": 8,
   "metadata": {},
   "outputs": [],
   "source": [
    "meanpsi2S = ROOT.RooRealVar(\"meanpsi2S\",\"The mean of the psi(2S) Gaussian\",3.7,3.6,3.8)\n",
    "gausspsi2S = ROOT.RooGaussian(\"gausspsi2S\",\"The psi(2S) Gaussian\",mass,meanpsi2S,sigmaJpsi)"
   ]
  },
  {
   "cell_type": "code",
   "execution_count": 9,
   "metadata": {},
   "outputs": [
    {
     "name": "stdout",
     "output_type": "stream",
     "text": [
      "\n",
      " The mean of the psi(2S) Gaussian --->  RooRealVar::meanpsi2S = 3.7  L(3.6 - 3.8) \n",
      " \n",
      " The psi(2S) Gaussian --->  RooGaussian::gausspsi2S[ x=mass mean=meanpsi2S sigma=sigmaJpsi ] = 0.606531\n",
      "\n"
     ]
    }
   ],
   "source": [
    "print('\\n',\n",
    "      \n",
    "      \"The mean of the psi(2S) Gaussian ---> \" , meanpsi2S, '\\n',\n",
    "      \"The psi(2S) Gaussian ---> \" , gausspsi2S\n",
    "     )"
   ]
  },
  {
   "cell_type": "markdown",
   "metadata": {},
   "source": [
    "# Fit do Background por polinômio"
   ]
  },
  {
   "cell_type": "code",
   "execution_count": 10,
   "metadata": {},
   "outputs": [],
   "source": [
    "a1 = ROOT.RooRealVar(\"a1\",\"The a1 of background\",-0.7,-2.,2.)\n",
    "a2 = ROOT.RooRealVar(\"a2\",\"The a2 of background\",0.3,-2.,2.)\n",
    "a3 = ROOT.RooRealVar(\"a3\",\"The a3 of background\",-0.03,-2.,2.)\n",
    "backgroundPDF = ROOT.RooPolynomial(\"backgroundPDF\",\"The background PDF\",mass,ROOT.RooArgList(a1,a2,a3))"
   ]
  },
  {
   "cell_type": "code",
   "execution_count": 11,
   "metadata": {},
   "outputs": [
    {
     "name": "stdout",
     "output_type": "stream",
     "text": [
      "\n",
      " a1 --> RooRealVar::a1 = -0.7  L(-2 - 2) \n",
      " \n",
      " a2 --> RooRealVar::a2 = 0.3  L(-2 - 2) \n",
      " \n",
      " a3 --> RooRealVar::a3 = -0.03  L(-2 - 2) \n",
      " \n",
      "\n"
     ]
    }
   ],
   "source": [
    "print( \n",
    "       '\\n',\n",
    "    \n",
    "       \"a1 -->\", a1,'\\n',\n",
    "       \"a2 -->\", a2,'\\n',\n",
    "       \"a3 -->\", a3,'\\n',\n",
    ")"
   ]
  },
  {
   "cell_type": "code",
   "execution_count": 12,
   "metadata": {},
   "outputs": [],
   "source": [
    "NJpsi = ROOT.RooRealVar(\"NJpsi\",\"The Jpsi signal events\",1500.,0.1,10000.)\n",
    "Npsi = ROOT.RooRealVar(\"Npsi\",\"The psi signal events\",100.,0.1,5000.)\n",
    "Nbkg = ROOT.RooRealVar(\"Nbkg\",\"The bkg events\",5000.,0.1,50000.)"
   ]
  },
  {
   "cell_type": "code",
   "execution_count": 13,
   "metadata": {},
   "outputs": [
    {
     "name": "stdout",
     "output_type": "stream",
     "text": [
      "\n",
      " The Jpsi signal events -->  RooRealVar::NJpsi = 1500  L(0.1 - 10000) \n",
      " \n",
      " The psi signal events -->  RooRealVar::Npsi = 100  L(0.1 - 5000) \n",
      " \n",
      " The background events -->  RooRealVar::Nbkg = 5000  L(0.1 - 50000) \n",
      " \n",
      "\n"
     ]
    }
   ],
   "source": [
    "print('\\n',\n",
    "      \"The Jpsi signal events --> \", NJpsi , '\\n',\n",
    "      \"The psi signal events --> \", Npsi , '\\n',\n",
    "      \"The background events --> \", Nbkg , '\\n'\n",
    "     )"
   ]
  },
  {
   "cell_type": "markdown",
   "metadata": {},
   "source": [
    "O PDF total é uma combinação linear dos diferentes componentes com pesos proporcionais a *NJpsi* , *Npsi* e *Nbkg*. Isso é implementado no *RooFit* na classe *RooAddPdf*. Observe que as listas de PDF e rendimentos são passadas por meio da classe RooArgList"
   ]
  },
  {
   "cell_type": "code",
   "execution_count": 14,
   "metadata": {},
   "outputs": [],
   "source": [
    "totPDF = ROOT.RooAddPdf(\"totPDF\",\"The total PDF\",ROOT.RooArgList(CBJpsi,gausspsi2S,backgroundPDF),ROOT.RooArgList(NJpsi,Npsi,Nbkg))"
   ]
  },
  {
   "cell_type": "markdown",
   "metadata": {},
   "source": [
    "# Realizando o Fit"
   ]
  },
  {
   "cell_type": "code",
   "execution_count": 15,
   "metadata": {},
   "outputs": [
    {
     "data": {
      "text/plain": [
       "<ROOT.RooFitResult object at 0x(nil)>"
      ]
     },
     "execution_count": 15,
     "metadata": {},
     "output_type": "execute_result"
    },
    {
     "name": "stdout",
     "output_type": "stream",
     "text": [
      "[#1] INFO:Minization -- RooMinimizer::optimizeConst: activating const optimization\n",
      "[#1] INFO:Minization --  The following expressions will be evaluated in cache-and-track mode: (CBJpsi,gausspsi2S,backgroundPDF)\n",
      " **********\n",
      " **    1 **SET PRINT           1\n",
      " **********\n",
      " **********\n",
      " **    2 **SET NOGRAD\n",
      " **********\n",
      " PARAMETER DEFINITIONS:\n",
      "    NO.   NAME         VALUE      STEP SIZE      LIMITS\n",
      "     1 NJpsi        1.50000e+03  7.49950e+02    1.00000e-01  1.00000e+04\n",
      "     2 Nbkg         5.00000e+03  2.49995e+03    1.00000e-01  5.00000e+04\n",
      "     3 Npsi         1.00000e+02  4.99500e+01    1.00000e-01  5.00000e+03\n",
      "     4 a1          -7.00000e-01  4.00000e-01   -2.00000e+00  2.00000e+00\n",
      "     5 a2           3.00000e-01  4.00000e-01   -2.00000e+00  2.00000e+00\n",
      "     6 a3          -3.00000e-02  4.00000e-01   -2.00000e+00  2.00000e+00\n",
      "     7 alphaJpsi    1.50000e+00  1.00000e+00   -5.00000e+00  5.00000e+00\n",
      "     8 meanJpsi     3.10000e+00  4.00000e-02    2.80000e+00  3.20000e+00\n",
      "     9 meanpsi2S    3.70000e+00  2.00000e-02    3.60000e+00  3.80000e+00\n",
      "    10 nJpsi        1.50000e+00  4.50000e-01    5.00000e-01  5.00000e+00\n",
      "    11 sigmaJpsi    3.00000e-01  9.99900e-02    1.00000e-04  1.00000e+00\n",
      " **********\n",
      " **    3 **SET ERR         0.5\n",
      " **********\n",
      " **********\n",
      " **    4 **SET PRINT           1\n",
      " **********\n",
      " **********\n",
      " **    5 **SET STR           1\n",
      " **********\n",
      " NOW USING STRATEGY  1: TRY TO BALANCE SPEED AGAINST RELIABILITY\n",
      " **********\n",
      " **    6 **MIGRAD        5500           1\n",
      " **********\n",
      " FIRST CALL TO USER FUNCTION AT NEW START POINT, WITH IFLAG=4.\n",
      " START MIGRAD MINIMIZATION.  STRATEGY  1.  CONVERGENCE WHEN EDM .LT. 1.00e-03\n",
      "[#0] WARNING:Minization -- RooMinimizerFcn: Minimized function has error status.\n",
      "Returning maximum FCN so far (2893.96) to force MIGRAD to back out of this region. Error log follows\n",
      "Parameter values: NJpsi=1500, Nbkg=5000, Npsi=100, a1=-0.7, a2=0.3, a3=-0.0404627, alphaJpsi=1.5, meanJpsi=3.1, meanpsi2S=3.7, nJpsi=1.5, sigmaJpsi=0.3\n",
      "RooPolynomial::backgroundPDF[ x=mass coefList=(a1,a2,a3) ]\n",
      "     p.d.f value is less than zero (-0.893167), forcing value to zero @ x=mass=5.82316, coefList=(a1 = -0.7,a2 = 0.3,a3 = -0.0404627)\n",
      "     p.d.f value is less than zero (-0.555468), forcing value to zero @ x=mass=5.54455, coefList=(a1 = -0.7,a2 = 0.3,a3 = -0.0404627)\n",
      "     p.d.f value is less than zero (-0.517519), forcing value to zero @ x=mass=5.5098, coefList=(a1 = -0.7,a2 = 0.3,a3 = -0.0404627)\n",
      "     p.d.f value is less than zero (-0.329705), forcing value to zero @ x=mass=5.32424, coefList=(a1 = -0.7,a2 = 0.3,a3 = -0.0404627)\n",
      "     p.d.f value is less than zero (-0.681125), forcing value to zero @ x=mass=5.65416, coefList=(a1 = -0.7,a2 = 0.3,a3 = -0.0404627)\n",
      "     p.d.f value is less than zero (-0.475788), forcing value to zero @ x=mass=5.47061, coefList=(a1 = -0.7,a2 = 0.3,a3 = -0.0404627)\n",
      "     p.d.f value is less than zero (-0.617330), forcing value to zero @ x=mass=5.59951, coefList=(a1 = -0.7,a2 = 0.3,a3 = -0.0404627)\n",
      "     p.d.f value is less than zero (-0.024875), forcing value to zero @ x=mass=4.95427, coefList=(a1 = -0.7,a2 = 0.3,a3 = -0.0404627)\n",
      "     p.d.f value is less than zero (-0.536070), forcing value to zero @ x=mass=5.52689, coefList=(a1 = -0.7,a2 = 0.3,a3 = -0.0404627)\n",
      "     p.d.f value is less than zero (-0.288597), forcing value to zero @ x=mass=5.2801, coefList=(a1 = -0.7,a2 = 0.3,a3 = -0.0404627)\n",
      "     p.d.f value is less than zero (-0.053569), forcing value to zero @ x=mass=4.99418, coefList=(a1 = -0.7,a2 = 0.3,a3 = -0.0404627)\n",
      "     p.d.f value is less than zero (-0.646315), forcing value to zero @ x=mass=5.62458, coefList=(a1 = -0.7,a2 = 0.3,a3 = -0.0404627)\n",
      "    ... (remaining 44 messages suppressed)\n",
      "\n",
      "[#0] WARNING:Minization -- RooMinimizerFcn: Minimized function has error status.\n",
      "Returning maximum FCN so far (2893.96) to force MIGRAD to back out of this region. Error log follows\n",
      "Parameter values: NJpsi=1500, Nbkg=5000, Npsi=100, a1=-1.01173, a2=0.3, a3=-0.03, alphaJpsi=1.5, meanJpsi=3.1, meanpsi2S=3.7, nJpsi=1.5, sigmaJpsi=0.3\n",
      "RooPolynomial::backgroundPDF[ x=mass coefList=(a1,a2,a3) ]\n",
      "     p.d.f value is less than zero (-0.147118), forcing value to zero @ x=mass=3.10232, coefList=(a1 = -1.01173,a2 = 0.3,a3 = -0.03)\n",
      "     p.d.f normalization integral is zero or negative: -0.987609 @ x=mass=3.10232, coefList=(a1 = -1.01173,a2 = 0.3,a3 = -0.03)\n",
      "     p.d.f value is less than zero (-0.105108), forcing value to zero @ x=mass=2.3012, coefList=(a1 = -1.01173,a2 = 0.3,a3 = -0.03)\n",
      "     p.d.f normalization integral is zero or negative: -0.987609 @ x=mass=2.3012, coefList=(a1 = -1.01173,a2 = 0.3,a3 = -0.03)\n",
      "     p.d.f value is less than zero (-0.175969), forcing value to zero @ x=mass=4.14801, coefList=(a1 = -1.01173,a2 = 0.3,a3 = -0.03)\n",
      "     p.d.f normalization integral is zero or negative: -0.987609 @ x=mass=4.14801, coefList=(a1 = -1.01173,a2 = 0.3,a3 = -0.03)\n",
      "     p.d.f value is less than zero (-0.147588), forcing value to zero @ x=mass=3.13183, coefList=(a1 = -1.01173,a2 = 0.3,a3 = -0.03)\n",
      "     p.d.f normalization integral is zero or negative: -0.987609 @ x=mass=3.13183, coefList=(a1 = -1.01173,a2 = 0.3,a3 = -0.03)\n",
      "     p.d.f value is less than zero (-0.268007), forcing value to zero @ x=mass=4.82852, coefList=(a1 = -1.01173,a2 = 0.3,a3 = -0.03)\n",
      "     p.d.f normalization integral is zero or negative: -0.987609 @ x=mass=4.82852, coefList=(a1 = -1.01173,a2 = 0.3,a3 = -0.03)\n",
      "     p.d.f value is less than zero (-0.148865), forcing value to zero @ x=mass=3.22318, coefList=(a1 = -1.01173,a2 = 0.3,a3 = -0.03)\n",
      "     p.d.f normalization integral is zero or negative: -0.987609 @ x=mass=3.22318, coefList=(a1 = -1.01173,a2 = 0.3,a3 = -0.03)\n",
      "    ... (remaining 990 messages suppressed)\n",
      "\n",
      "[#0] WARNING:Minization -- RooMinimizerFcn: Minimized function has error status.\n",
      "Returning maximum FCN so far (2893.96) to force MIGRAD to back out of this region. Error log follows\n",
      "Parameter values: NJpsi=1500, Nbkg=5000, Npsi=100, a1=-0.910723, a2=0.3, a3=-0.03, alphaJpsi=1.5, meanJpsi=3.1, meanpsi2S=3.7, nJpsi=1.5, sigmaJpsi=0.3\n",
      "RooPolynomial::backgroundPDF[ x=mass coefList=(a1,a2,a3) ]\n",
      "     p.d.f value is less than zero (-0.054289), forcing value to zero @ x=mass=5.82316, coefList=(a1 = -0.910723,a2 = 0.3,a3 = -0.03)\n",
      "     p.d.f value is less than zero (-0.065456), forcing value to zero @ x=mass=5.84672, coefList=(a1 = -0.910723,a2 = 0.3,a3 = -0.03)\n",
      "     p.d.f value is less than zero (-0.121475), forcing value to zero @ x=mass=5.95771, coefList=(a1 = -0.910723,a2 = 0.3,a3 = -0.03)\n",
      "     p.d.f value is less than zero (-0.131159), forcing value to zero @ x=mass=5.97581, coefList=(a1 = -0.910723,a2 = 0.3,a3 = -0.03)\n",
      "     p.d.f value is less than zero (-0.118278), forcing value to zero @ x=mass=5.95167, coefList=(a1 = -0.910723,a2 = 0.3,a3 = -0.03)\n",
      "     p.d.f value is less than zero (-0.104297), forcing value to zero @ x=mass=5.92486, coefList=(a1 = -0.910723,a2 = 0.3,a3 = -0.03)\n",
      "     p.d.f value is less than zero (-0.075969), forcing value to zero @ x=mass=5.86844, coefList=(a1 = -0.910723,a2 = 0.3,a3 = -0.03)\n",
      "     p.d.f value is less than zero (-0.112992), forcing value to zero @ x=mass=5.94161, coefList=(a1 = -0.910723,a2 = 0.3,a3 = -0.03)\n",
      "     p.d.f value is less than zero (-0.033497), forcing value to zero @ x=mass=5.77782, coefList=(a1 = -0.910723,a2 = 0.3,a3 = -0.03)\n",
      "     p.d.f value is less than zero (-0.136575), forcing value to zero @ x=mass=5.98582, coefList=(a1 = -0.910723,a2 = 0.3,a3 = -0.03)\n",
      "     p.d.f value is less than zero (-0.011434), forcing value to zero @ x=mass=5.72739, coefList=(a1 = -0.910723,a2 = 0.3,a3 = -0.03)\n",
      "     p.d.f value is less than zero (-0.002207), forcing value to zero @ x=mass=5.70552, coefList=(a1 = -0.910723,a2 = 0.3,a3 = -0.03)\n",
      "    ... (remaining 3 messages suppressed)\n",
      "\n",
      "[#0] WARNING:Minization -- RooMinimizerFcn: Minimized function has error status.\n",
      "Returning maximum FCN so far (2893.96) to force MIGRAD to back out of this region. Error log follows\n",
      "Parameter values: NJpsi=1500, Nbkg=5000, Npsi=100, a1=-0.910609, a2=0.3, a3=-0.03, alphaJpsi=1.5, meanJpsi=3.1, meanpsi2S=3.7, nJpsi=1.5, sigmaJpsi=0.3\n",
      "RooPolynomial::backgroundPDF[ x=mass coefList=(a1,a2,a3) ]\n",
      "     p.d.f value is less than zero (-0.053626), forcing value to zero @ x=mass=5.82316, coefList=(a1 = -0.910609,a2 = 0.3,a3 = -0.03)\n",
      "     p.d.f value is less than zero (-0.064790), forcing value to zero @ x=mass=5.84672, coefList=(a1 = -0.910609,a2 = 0.3,a3 = -0.03)\n",
      "     p.d.f value is less than zero (-0.120796), forcing value to zero @ x=mass=5.95771, coefList=(a1 = -0.910609,a2 = 0.3,a3 = -0.03)\n",
      "     p.d.f value is less than zero (-0.130477), forcing value to zero @ x=mass=5.97581, coefList=(a1 = -0.910609,a2 = 0.3,a3 = -0.03)\n",
      "     p.d.f value is less than zero (-0.117599), forcing value to zero @ x=mass=5.95167, coefList=(a1 = -0.910609,a2 = 0.3,a3 = -0.03)\n",
      "     p.d.f value is less than zero (-0.103622), forcing value to zero @ x=mass=5.92486, coefList=(a1 = -0.910609,a2 = 0.3,a3 = -0.03)\n",
      "     p.d.f value is less than zero (-0.075300), forcing value to zero @ x=mass=5.86844, coefList=(a1 = -0.910609,a2 = 0.3,a3 = -0.03)\n",
      "     p.d.f value is less than zero (-0.112315), forcing value to zero @ x=mass=5.94161, coefList=(a1 = -0.910609,a2 = 0.3,a3 = -0.03)\n",
      "     p.d.f value is less than zero (-0.032839), forcing value to zero @ x=mass=5.77782, coefList=(a1 = -0.910609,a2 = 0.3,a3 = -0.03)\n",
      "     p.d.f value is less than zero (-0.135893), forcing value to zero @ x=mass=5.98582, coefList=(a1 = -0.910609,a2 = 0.3,a3 = -0.03)\n",
      "     p.d.f value is less than zero (-0.010782), forcing value to zero @ x=mass=5.72739, coefList=(a1 = -0.910609,a2 = 0.3,a3 = -0.03)\n",
      "     p.d.f value is less than zero (-0.001557), forcing value to zero @ x=mass=5.70552, coefList=(a1 = -0.910609,a2 = 0.3,a3 = -0.03)\n",
      "    ... (remaining 3 messages suppressed)\n",
      "\n",
      " FCN=2720.83 FROM MIGRAD    STATUS=INITIATE      217 CALLS         218 TOTAL\n",
      "                     EDM= unknown      STRATEGY= 1      NO ERROR MATRIX       \n",
      "  EXT PARAMETER               CURRENT GUESS       STEP         FIRST   \n",
      "  NO.   NAME      VALUE            ERROR          SIZE      DERIVATIVE \n",
      "   1  NJpsi        1.50000e+03   7.49950e+02   0.00000e+00   3.15184e+03\n",
      "   2  Nbkg         5.00000e+03   2.49995e+03   0.00000e+00   1.40318e+04\n",
      "   3  Npsi         1.00000e+02   4.99500e+01   0.00000e+00   6.89795e+02\n",
      "   4  a1          -8.59068e-01   4.00000e-01   0.00000e+00   1.92179e+02\n",
      "   5  a2           3.00000e-01   4.00000e-01   0.00000e+00   4.20599e+03\n",
      "   6  a3          -3.00000e-02   4.00000e-01   0.00000e+00   2.92747e+04\n",
      "   7  alphaJpsi    1.50000e+00   1.00000e+00   0.00000e+00   3.29233e+01\n",
      "   8  meanJpsi     3.10000e+00   4.00000e-02   0.00000e+00   6.10202e+01\n",
      "   9  meanpsi2S    3.60000e+00   2.00000e-02   0.00000e+00** at limit **\n",
      "  10  nJpsi        6.42078e-01   4.50000e-01  -1.66106e-01   2.72550e-01\n",
      "  11  sigmaJpsi    1.59492e-02   9.99900e-02   0.00000e+00   3.48308e+02\n",
      "                               ERR DEF= 0.5\n",
      "[#0] WARNING:Minization -- RooMinimizerFcn: Minimized function has error status.\n",
      "Returning maximum FCN so far (2893.96) to force MIGRAD to back out of this region. Error log follows\n",
      "Parameter values: NJpsi=3.73857, Nbkg=5.51769, Npsi=0.118301, a1=-0.896126, a2=0.277937, a3=-0.0323409, alphaJpsi=1.41626, meanJpsi=3.09736, meanpsi2S=3.6, nJpsi=0.644119, sigmaJpsi=0.0339378\n",
      "RooPolynomial::backgroundPDF[ x=mass coefList=(a1,a2,a3) ]\n",
      "     p.d.f value is less than zero (-0.070727), forcing value to zero @ x=mass=3.10232, coefList=(a1 = -0.896126,a2 = 0.277937,a3 = -0.0323409)\n",
      "     p.d.f normalization integral is zero or negative: -1.41679 @ x=mass=3.10232, coefList=(a1 = -0.896126,a2 = 0.277937,a3 = -0.0323409)\n",
      "     p.d.f normalization integral is zero or negative: -1.41679 @ x=mass=2.3012, coefList=(a1 = -0.896126,a2 = 0.277937,a3 = -0.0323409)\n",
      "     p.d.f value is less than zero (-0.243144), forcing value to zero @ x=mass=4.14801, coefList=(a1 = -0.896126,a2 = 0.277937,a3 = -0.0323409)\n",
      "     p.d.f normalization integral is zero or negative: -1.41679 @ x=mass=4.14801, coefList=(a1 = -0.896126,a2 = 0.277937,a3 = -0.0323409)\n",
      "     p.d.f value is less than zero (-0.073858), forcing value to zero @ x=mass=3.13183, coefList=(a1 = -0.896126,a2 = 0.277937,a3 = -0.0323409)\n",
      "     p.d.f normalization integral is zero or negative: -1.41679 @ x=mass=3.13183, coefList=(a1 = -0.896126,a2 = 0.277937,a3 = -0.0323409)\n",
      "     p.d.f value is less than zero (-0.487744), forcing value to zero @ x=mass=4.82852, coefList=(a1 = -0.896126,a2 = 0.277937,a3 = -0.0323409)\n",
      "     p.d.f normalization integral is zero or negative: -1.41679 @ x=mass=4.82852, coefList=(a1 = -0.896126,a2 = 0.277937,a3 = -0.0323409)\n",
      "     p.d.f value is less than zero (-0.083859), forcing value to zero @ x=mass=3.22318, coefList=(a1 = -0.896126,a2 = 0.277937,a3 = -0.0323409)\n",
      "     p.d.f normalization integral is zero or negative: -1.41679 @ x=mass=3.22318, coefList=(a1 = -0.896126,a2 = 0.277937,a3 = -0.0323409)\n",
      "     p.d.f value is less than zero (-0.012156), forcing value to zero @ x=mass=2.53242, coefList=(a1 = -0.896126,a2 = 0.277937,a3 = -0.0323409)\n",
      "    ... (remaining 913 messages suppressed)\n",
      "RooAddPdf::totPDF[ NJpsi * CBJpsi + Npsi * gausspsi2S + Nbkg * backgroundPDF ]\n",
      "     getLogVal() top-level p.d.f evaluates to zero @ !refCoefNorm=(), !pdfs=(CBJpsi = 0/0.134278,gausspsi2S = 0/0.0850694,backgroundPDF = -0.513572/-1.41679), !coefficients=(NJpsi = 3.73857,Npsi = 0.118301,Nbkg = 5.51769)\n",
      "     getLogVal() top-level p.d.f evaluates to zero @ !refCoefNorm=(), !pdfs=(CBJpsi = 0/0.134278,gausspsi2S = 0/0.0850694,backgroundPDF = -1.17965/-1.41679), !coefficients=(NJpsi = 3.73857,Npsi = 0.118301,Nbkg = 5.51769)\n",
      "     getLogVal() top-level p.d.f evaluates to zero @ !refCoefNorm=(), !pdfs=(CBJpsi = 0/0.134278,gausspsi2S = 0/0.0850694,backgroundPDF = -0.936787/-1.41679), !coefficients=(NJpsi = 3.73857,Npsi = 0.118301,Nbkg = 5.51769)\n",
      "     getLogVal() top-level p.d.f evaluates to zero @ !refCoefNorm=(), !pdfs=(CBJpsi = 0/0.134278,gausspsi2S = 0/0.0850694,backgroundPDF = -0.909414/-1.41679), !coefficients=(NJpsi = 3.73857,Npsi = 0.118301,Nbkg = 5.51769)\n",
      "     getLogVal() top-level p.d.f evaluates to zero @ !refCoefNorm=(), !pdfs=(CBJpsi = 0/0.134278,gausspsi2S = 0/0.0850694,backgroundPDF = -0.773537/-1.41679), !coefficients=(NJpsi = 3.73857,Npsi = 0.118301,Nbkg = 5.51769)\n",
      "     getLogVal() top-level p.d.f evaluates to zero @ !refCoefNorm=(), !pdfs=(CBJpsi = 0/0.134278,gausspsi2S = 0/0.0850694,backgroundPDF = -1.02729/-1.41679), !coefficients=(NJpsi = 3.73857,Npsi = 0.118301,Nbkg = 5.51769)\n",
      "     getLogVal() top-level p.d.f evaluates to zero @ !refCoefNorm=(), !pdfs=(CBJpsi = 0/0.134278,gausspsi2S = 0/0.0850694,backgroundPDF = -0.879286/-1.41679), !coefficients=(NJpsi = 3.73857,Npsi = 0.118301,Nbkg = 5.51769)\n",
      "     getLogVal() top-level p.d.f evaluates to zero @ !refCoefNorm=(), !pdfs=(CBJpsi = 0/0.134278,gausspsi2S = 0/0.0850694,backgroundPDF = -0.981365/-1.41679), !coefficients=(NJpsi = 3.73857,Npsi = 0.118301,Nbkg = 5.51769)\n",
      "     getLogVal() top-level p.d.f evaluates to zero @ !refCoefNorm=(), !pdfs=(CBJpsi = 0/0.134278,gausspsi2S = 0/0.0850694,backgroundPDF = -0.55044/-1.41679), !coefficients=(NJpsi = 3.73857,Npsi = 0.118301,Nbkg = 5.51769)\n",
      "     getLogVal() top-level p.d.f evaluates to zero @ !refCoefNorm=(), !pdfs=(CBJpsi = 0/0.134278,gausspsi2S = 0/0.0850694,backgroundPDF = -0.922798/-1.41679), !coefficients=(NJpsi = 3.73857,Npsi = 0.118301,Nbkg = 5.51769)\n",
      "     getLogVal() top-level p.d.f evaluates to zero @ !refCoefNorm=(), !pdfs=(CBJpsi = 0/0.134278,gausspsi2S = 0/0.0850694,backgroundPDF = -0.743681/-1.41679), !coefficients=(NJpsi = 3.73857,Npsi = 0.118301,Nbkg = 5.51769)\n",
      "     getLogVal() top-level p.d.f evaluates to zero @ !refCoefNorm=(), !pdfs=(CBJpsi = 0/0.134278,gausspsi2S = 0/0.0850694,backgroundPDF = -0.57166/-1.41679), !coefficients=(NJpsi = 3.73857,Npsi = 0.118301,Nbkg = 5.51769)\n",
      "    ... (remaining 46 messages suppressed)\n",
      "RooNLLVar::nll_totPDF_data[ paramSet=(NJpsi,Nbkg,Npsi,a1,a2,a3,alphaJpsi,meanJpsi,meanpsi2S,nJpsi,sigmaJpsi) ]\n",
      "     function value is NAN @ paramSet=(NJpsi = 3.73857,Nbkg = 5.51769,Npsi = 0.118301,a1 = -0.896126,a2 = 0.277937,a3 = -0.0323409,alphaJpsi = 1.41626,meanJpsi = 3.09736,meanpsi2S = 3.6,nJpsi = 0.644119,sigmaJpsi = 0.0339378)\n",
      "\n",
      "[#0] WARNING:Minization -- RooMinimizerFcn: Minimized function has error status.\n",
      "Returning maximum FCN so far (2893.96) to force MIGRAD to back out of this region. Error log follows\n",
      "Parameter values: NJpsi=365.055, Nbkg=1237.82, Npsi=25.2355, a1=-0.877384, a2=0.289127, a3=-0.0311541, alphaJpsi=1.45877, meanJpsi=3.0987, meanpsi2S=3.6, nJpsi=0.643083, sigmaJpsi=0.0239959\n",
      "RooPolynomial::backgroundPDF[ x=mass coefList=(a1,a2,a3) ]\n",
      "     p.d.f value is less than zero (-0.002748), forcing value to zero @ x=mass=4.82852, coefList=(a1 = -0.877384,a2 = 0.289127,a3 = -0.0311541)\n",
      "     p.d.f value is less than zero (-0.017307), forcing value to zero @ x=mass=4.88184, coefList=(a1 = -0.877384,a2 = 0.289127,a3 = -0.0311541)\n",
      "     p.d.f value is less than zero (-0.456717), forcing value to zero @ x=mass=5.82316, coefList=(a1 = -0.877384,a2 = 0.289127,a3 = -0.0311541)\n",
      "     p.d.f value is less than zero (-0.286571), forcing value to zero @ x=mass=5.54455, coefList=(a1 = -0.877384,a2 = 0.289127,a3 = -0.0311541)\n",
      "     p.d.f value is less than zero (-0.267928), forcing value to zero @ x=mass=5.5098, coefList=(a1 = -0.877384,a2 = 0.289127,a3 = -0.0311541)\n",
      "     p.d.f value is less than zero (-0.013748), forcing value to zero @ x=mass=4.86912, coefList=(a1 = -0.877384,a2 = 0.289127,a3 = -0.0311541)\n",
      "     p.d.f value is less than zero (-0.177412), forcing value to zero @ x=mass=5.32424, coefList=(a1 = -0.877384,a2 = 0.289127,a3 = -0.0311541)\n",
      "     p.d.f value is less than zero (-0.349043), forcing value to zero @ x=mass=5.65416, coefList=(a1 = -0.877384,a2 = 0.289127,a3 = -0.0311541)\n",
      "     p.d.f value is less than zero (-0.247555), forcing value to zero @ x=mass=5.47061, coefList=(a1 = -0.877384,a2 = 0.289127,a3 = -0.0311541)\n",
      "     p.d.f value is less than zero (-0.317190), forcing value to zero @ x=mass=5.59951, coefList=(a1 = -0.877384,a2 = 0.289127,a3 = -0.0311541)\n",
      "     p.d.f value is less than zero (-0.038610), forcing value to zero @ x=mass=4.95427, coefList=(a1 = -0.877384,a2 = 0.289127,a3 = -0.0311541)\n",
      "     p.d.f value is less than zero (-0.277027), forcing value to zero @ x=mass=5.52689, coefList=(a1 = -0.877384,a2 = 0.289127,a3 = -0.0311541)\n",
      "    ... (remaining 49 messages suppressed)\n",
      "RooAddPdf::totPDF[ NJpsi * CBJpsi + Npsi * gausspsi2S + Nbkg * backgroundPDF ]\n",
      "     getLogVal() top-level p.d.f evaluates to zero @ !refCoefNorm=(), !pdfs=(CBJpsi = 0/0.0987805,gausspsi2S = 0/0.0601487,backgroundPDF = -0.00274836/0.0387122), !coefficients=(NJpsi = 365.055,Npsi = 25.2355,Nbkg = 1237.82)\n",
      "     getLogVal() top-level p.d.f evaluates to zero @ !refCoefNorm=(), !pdfs=(CBJpsi = 0/0.0987805,gausspsi2S = 0/0.0601487,backgroundPDF = -0.0173075/0.0387122), !coefficients=(NJpsi = 365.055,Npsi = 25.2355,Nbkg = 1237.82)\n",
      "     getLogVal() top-level p.d.f evaluates to zero @ !refCoefNorm=(), !pdfs=(CBJpsi = 0/0.0987805,gausspsi2S = 0/0.0601487,backgroundPDF = -0.456717/0.0387122), !coefficients=(NJpsi = 365.055,Npsi = 25.2355,Nbkg = 1237.82)\n",
      "     getLogVal() top-level p.d.f evaluates to zero @ !refCoefNorm=(), !pdfs=(CBJpsi = 0/0.0987805,gausspsi2S = 0/0.0601487,backgroundPDF = -0.286571/0.0387122), !coefficients=(NJpsi = 365.055,Npsi = 25.2355,Nbkg = 1237.82)\n",
      "     getLogVal() top-level p.d.f evaluates to zero @ !refCoefNorm=(), !pdfs=(CBJpsi = 0/0.0987805,gausspsi2S = 0/0.0601487,backgroundPDF = -0.267928/0.0387122), !coefficients=(NJpsi = 365.055,Npsi = 25.2355,Nbkg = 1237.82)\n",
      "     getLogVal() top-level p.d.f evaluates to zero @ !refCoefNorm=(), !pdfs=(CBJpsi = 0/0.0987805,gausspsi2S = 0/0.0601487,backgroundPDF = -0.0137483/0.0387122), !coefficients=(NJpsi = 365.055,Npsi = 25.2355,Nbkg = 1237.82)\n",
      "     getLogVal() top-level p.d.f evaluates to zero @ !refCoefNorm=(), !pdfs=(CBJpsi = 0/0.0987805,gausspsi2S = 0/0.0601487,backgroundPDF = -0.177412/0.0387122), !coefficients=(NJpsi = 365.055,Npsi = 25.2355,Nbkg = 1237.82)\n",
      "     getLogVal() top-level p.d.f evaluates to zero @ !refCoefNorm=(), !pdfs=(CBJpsi = 0/0.0987805,gausspsi2S = 0/0.0601487,backgroundPDF = -0.349043/0.0387122), !coefficients=(NJpsi = 365.055,Npsi = 25.2355,Nbkg = 1237.82)\n",
      "     getLogVal() top-level p.d.f evaluates to zero @ !refCoefNorm=(), !pdfs=(CBJpsi = 0/0.0987805,gausspsi2S = 0/0.0601487,backgroundPDF = -0.247555/0.0387122), !coefficients=(NJpsi = 365.055,Npsi = 25.2355,Nbkg = 1237.82)\n",
      "     getLogVal() top-level p.d.f evaluates to zero @ !refCoefNorm=(), !pdfs=(CBJpsi = 0/0.0987805,gausspsi2S = 0/0.0601487,backgroundPDF = -0.31719/0.0387122), !coefficients=(NJpsi = 365.055,Npsi = 25.2355,Nbkg = 1237.82)\n",
      "     getLogVal() top-level p.d.f evaluates to zero @ !refCoefNorm=(), !pdfs=(CBJpsi = 0/0.0987805,gausspsi2S = 0/0.0601487,backgroundPDF = -0.0386096/0.0387122), !coefficients=(NJpsi = 365.055,Npsi = 25.2355,Nbkg = 1237.82)\n",
      "     getLogVal() top-level p.d.f evaluates to zero @ !refCoefNorm=(), !pdfs=(CBJpsi = 0/0.0987805,gausspsi2S = 0/0.0601487,backgroundPDF = -0.277027/0.0387122), !coefficients=(NJpsi = 365.055,Npsi = 25.2355,Nbkg = 1237.82)\n",
      "    ... (remaining 49 messages suppressed)\n",
      "RooNLLVar::nll_totPDF_data[ paramSet=(NJpsi,Nbkg,Npsi,a1,a2,a3,alphaJpsi,meanJpsi,meanpsi2S,nJpsi,sigmaJpsi) ]\n",
      "     function value is NAN @ paramSet=(NJpsi = 365.055,Nbkg = 1237.82,Npsi = 25.2355,a1 = -0.877384,a2 = 0.289127,a3 = -0.0311541,alphaJpsi = 1.45877,meanJpsi = 3.0987,meanpsi2S = 3.6,nJpsi = 0.643083,sigmaJpsi = 0.0239959)\n",
      "\n",
      "[#0] WARNING:Minization -- RooMinimizerFcn: Minimized function has error status.\n",
      "Returning maximum FCN so far (2893.96) to force MIGRAD to back out of this region. Error log follows\n",
      "Parameter values: NJpsi=861.185, Nbkg=2875.3, Npsi=57.536, a1=-0.867981, a2=0.294717, a3=-0.0305609, alphaJpsi=1.47998, meanJpsi=3.09937, meanpsi2S=3.6, nJpsi=0.642566, sigmaJpsi=0.0196585\n",
      "RooPolynomial::backgroundPDF[ x=mass coefList=(a1,a2,a3) ]\n",
      "     p.d.f value is less than zero (-0.095297), forcing value to zero @ x=mass=5.82316, coefList=(a1 = -0.867981,a2 = 0.294717,a3 = -0.0305609)\n",
      "     p.d.f value is less than zero (-0.009959), forcing value to zero @ x=mass=5.65416, coefList=(a1 = -0.867981,a2 = 0.294717,a3 = -0.0305609)\n",
      "     p.d.f value is less than zero (-0.108259), forcing value to zero @ x=mass=5.84672, coefList=(a1 = -0.867981,a2 = 0.294717,a3 = -0.0305609)\n",
      "     p.d.f value is less than zero (-0.172963), forcing value to zero @ x=mass=5.95771, coefList=(a1 = -0.867981,a2 = 0.294717,a3 = -0.0305609)\n",
      "     p.d.f value is less than zero (-0.184098), forcing value to zero @ x=mass=5.97581, coefList=(a1 = -0.867981,a2 = 0.294717,a3 = -0.0305609)\n",
      "     p.d.f value is less than zero (-0.169282), forcing value to zero @ x=mass=5.95167, coefList=(a1 = -0.867981,a2 = 0.294717,a3 = -0.0305609)\n",
      "     p.d.f value is less than zero (-0.011375), forcing value to zero @ x=mass=5.65719, coefList=(a1 = -0.867981,a2 = 0.294717,a3 = -0.0305609)\n",
      "     p.d.f value is less than zero (-0.153175), forcing value to zero @ x=mass=5.92486, coefList=(a1 = -0.867981,a2 = 0.294717,a3 = -0.0305609)\n",
      "     p.d.f value is less than zero (-0.120442), forcing value to zero @ x=mass=5.86844, coefList=(a1 = -0.867981,a2 = 0.294717,a3 = -0.0305609)\n",
      "     p.d.f value is less than zero (-0.163195), forcing value to zero @ x=mass=5.94161, coefList=(a1 = -0.867981,a2 = 0.294717,a3 = -0.0305609)\n",
      "     p.d.f value is less than zero (-0.071097), forcing value to zero @ x=mass=5.77782, coefList=(a1 = -0.867981,a2 = 0.294717,a3 = -0.0305609)\n",
      "     p.d.f value is less than zero (-0.012586), forcing value to zero @ x=mass=5.65978, coefList=(a1 = -0.867981,a2 = 0.294717,a3 = -0.0305609)\n",
      "    ... (remaining 6 messages suppressed)\n",
      "RooAddPdf::totPDF[ NJpsi * CBJpsi + Npsi * gausspsi2S + Nbkg * backgroundPDF ]\n",
      "     getLogVal() top-level p.d.f evaluates to zero @ !refCoefNorm=(), !pdfs=(CBJpsi = 0/0.0829102,gausspsi2S = 0/0.0492765,backgroundPDF = -0.0952973/0.766518), !coefficients=(NJpsi = 861.185,Npsi = 57.536,Nbkg = 2875.3)\n",
      "     getLogVal() top-level p.d.f evaluates to zero @ !refCoefNorm=(), !pdfs=(CBJpsi = 0/0.0829102,gausspsi2S = 0/0.0492765,backgroundPDF = -0.00995906/0.766518), !coefficients=(NJpsi = 861.185,Npsi = 57.536,Nbkg = 2875.3)\n",
      "     getLogVal() top-level p.d.f evaluates to zero @ !refCoefNorm=(), !pdfs=(CBJpsi = 0/0.0829102,gausspsi2S = 0/0.0492765,backgroundPDF = -0.108259/0.766518), !coefficients=(NJpsi = 861.185,Npsi = 57.536,Nbkg = 2875.3)\n",
      "     getLogVal() top-level p.d.f evaluates to zero @ !refCoefNorm=(), !pdfs=(CBJpsi = 0/0.0829102,gausspsi2S = 0/0.0492765,backgroundPDF = -0.172963/0.766518), !coefficients=(NJpsi = 861.185,Npsi = 57.536,Nbkg = 2875.3)\n",
      "     getLogVal() top-level p.d.f evaluates to zero @ !refCoefNorm=(), !pdfs=(CBJpsi = 0/0.0829102,gausspsi2S = 0/0.0492765,backgroundPDF = -0.184098/0.766518), !coefficients=(NJpsi = 861.185,Npsi = 57.536,Nbkg = 2875.3)\n",
      "     getLogVal() top-level p.d.f evaluates to zero @ !refCoefNorm=(), !pdfs=(CBJpsi = 0/0.0829102,gausspsi2S = 0/0.0492765,backgroundPDF = -0.169282/0.766518), !coefficients=(NJpsi = 861.185,Npsi = 57.536,Nbkg = 2875.3)\n",
      "     getLogVal() top-level p.d.f evaluates to zero @ !refCoefNorm=(), !pdfs=(CBJpsi = 0/0.0829102,gausspsi2S = 0/0.0492765,backgroundPDF = -0.0113752/0.766518), !coefficients=(NJpsi = 861.185,Npsi = 57.536,Nbkg = 2875.3)\n",
      "     getLogVal() top-level p.d.f evaluates to zero @ !refCoefNorm=(), !pdfs=(CBJpsi = 0/0.0829102,gausspsi2S = 0/0.0492765,backgroundPDF = -0.153175/0.766518), !coefficients=(NJpsi = 861.185,Npsi = 57.536,Nbkg = 2875.3)\n",
      "     getLogVal() top-level p.d.f evaluates to zero @ !refCoefNorm=(), !pdfs=(CBJpsi = 0/0.0829102,gausspsi2S = 0/0.0492765,backgroundPDF = -0.120442/0.766518), !coefficients=(NJpsi = 861.185,Npsi = 57.536,Nbkg = 2875.3)\n",
      "     getLogVal() top-level p.d.f evaluates to zero @ !refCoefNorm=(), !pdfs=(CBJpsi = 0/0.0829102,gausspsi2S = 0/0.0492765,backgroundPDF = -0.163195/0.766518), !coefficients=(NJpsi = 861.185,Npsi = 57.536,Nbkg = 2875.3)\n",
      "     getLogVal() top-level p.d.f evaluates to zero @ !refCoefNorm=(), !pdfs=(CBJpsi = 0/0.0829102,gausspsi2S = 0/0.0492765,backgroundPDF = -0.0710968/0.766518), !coefficients=(NJpsi = 861.185,Npsi = 57.536,Nbkg = 2875.3)\n",
      "     getLogVal() top-level p.d.f evaluates to zero @ !refCoefNorm=(), !pdfs=(CBJpsi = 0/0.0829102,gausspsi2S = 0/0.0492765,backgroundPDF = -0.012586/0.766518), !coefficients=(NJpsi = 861.185,Npsi = 57.536,Nbkg = 2875.3)\n",
      "    ... (remaining 6 messages suppressed)\n",
      "RooNLLVar::nll_totPDF_data[ paramSet=(NJpsi,Nbkg,Npsi,a1,a2,a3,alphaJpsi,meanJpsi,meanpsi2S,nJpsi,sigmaJpsi) ]\n",
      "     function value is NAN @ paramSet=(NJpsi = 861.185,Nbkg = 2875.3,Npsi = 57.536,a1 = -0.867981,a2 = 0.294717,a3 = -0.0305609,alphaJpsi = 1.47998,meanJpsi = 3.09937,meanpsi2S = 3.6,nJpsi = 0.642566,sigmaJpsi = 0.0196585)\n",
      "\n",
      "[#0] WARNING:Minization -- RooMinimizerFcn: Minimized function has error status.\n",
      "Returning maximum FCN so far (2893.96) to force MIGRAD to back out of this region. Error log follows\n",
      "Parameter values: NJpsi=1179.41, Nbkg=3930.42, Npsi=78.5227, a1=-0.863766, a2=0.297506, a3=-0.0302648, alphaJpsi=1.49055, meanJpsi=3.0997, meanpsi2S=3.6, nJpsi=0.642308, sigmaJpsi=0.0176525\n",
      "RooPolynomial::backgroundPDF[ x=mass coefList=(a1,a2,a3) ]\n",
      "     p.d.f value is less than zero (-0.001630), forcing value to zero @ x=mass=5.98582, coefList=(a1 = -0.863766,a2 = 0.297506,a3 = -0.0302648)\n",
      "RooAddPdf::totPDF[ NJpsi * CBJpsi + Npsi * gausspsi2S + Nbkg * backgroundPDF ]\n",
      "     getLogVal() top-level p.d.f evaluates to zero @ !refCoefNorm=(), !pdfs=(CBJpsi = 0/0.0754661,gausspsi2S = 0/0.0442482,backgroundPDF = -0.00162988/1.12213), !coefficients=(NJpsi = 1179.41,Npsi = 78.5227,Nbkg = 3930.42)\n",
      "RooNLLVar::nll_totPDF_data[ paramSet=(NJpsi,Nbkg,Npsi,a1,a2,a3,alphaJpsi,meanJpsi,meanpsi2S,nJpsi,sigmaJpsi) ]\n",
      "     function value is NAN @ paramSet=(NJpsi = 1179.41,Nbkg = 3930.42,Npsi = 78.5227,a1 = -0.863766,a2 = 0.297506,a3 = -0.0302648,alphaJpsi = 1.49055,meanJpsi = 3.0997,meanpsi2S = 3.6,nJpsi = 0.642308,sigmaJpsi = 0.0176525)\n",
      "\n",
      "[#0] WARNING:Minization -- RooMinimizerFcn: Minimized function has error status.\n",
      "Returning maximum FCN so far (2893.96) to force MIGRAD to back out of this region. Error log follows\n",
      "Parameter values: NJpsi=1179.41, Nbkg=3930.42, Npsi=78.5227, a1=-0.863278, a2=0.297422, a3=-0.0302648, alphaJpsi=1.49055, meanJpsi=3.0997, meanpsi2S=3.6, nJpsi=0.642308, sigmaJpsi=0.0176525\n",
      "RooPolynomial::backgroundPDF[ x=mass coefList=(a1,a2,a3) ]\n",
      "     p.d.f value is less than zero (-0.001722), forcing value to zero @ x=mass=5.98582, coefList=(a1 = -0.863278,a2 = 0.297422,a3 = -0.0302648)\n",
      "RooAddPdf::totPDF[ NJpsi * CBJpsi + Npsi * gausspsi2S + Nbkg * backgroundPDF ]\n",
      "     getLogVal() top-level p.d.f evaluates to zero @ !refCoefNorm=(), !pdfs=(CBJpsi = 0/0.0754661,gausspsi2S = 0/0.0442482,backgroundPDF = -0.00172164/1.12411), !coefficients=(NJpsi = 1179.41,Npsi = 78.5227,Nbkg = 3930.42)\n",
      "RooNLLVar::nll_totPDF_data[ paramSet=(NJpsi,Nbkg,Npsi,a1,a2,a3,alphaJpsi,meanJpsi,meanpsi2S,nJpsi,sigmaJpsi) ]\n",
      "     function value is NAN @ paramSet=(NJpsi = 1179.41,Nbkg = 3930.42,Npsi = 78.5227,a1 = -0.863278,a2 = 0.297422,a3 = -0.0302648,alphaJpsi = 1.49055,meanJpsi = 3.0997,meanpsi2S = 3.6,nJpsi = 0.642308,sigmaJpsi = 0.0176525)\n",
      "\n",
      "[#0] WARNING:Minization -- RooMinimizerFcn: Minimized function has error status.\n",
      "Returning maximum FCN so far (2893.96) to force MIGRAD to back out of this region. Error log follows\n",
      "Parameter values: NJpsi=1179.41, Nbkg=3930.42, Npsi=78.5227, a1=-0.863278, a2=0.297506, a3=-0.0302752, alphaJpsi=1.49055, meanJpsi=3.0997, meanpsi2S=3.6, nJpsi=0.642308, sigmaJpsi=0.0176525\n",
      "RooPolynomial::backgroundPDF[ x=mass coefList=(a1,a2,a3) ]\n",
      "     p.d.f value is less than zero (-0.000949), forcing value to zero @ x=mass=5.98582, coefList=(a1 = -0.863278,a2 = 0.297506,a3 = -0.0302752)\n",
      "RooAddPdf::totPDF[ NJpsi * CBJpsi + Npsi * gausspsi2S + Nbkg * backgroundPDF ]\n",
      "     getLogVal() top-level p.d.f evaluates to zero @ !refCoefNorm=(), !pdfs=(CBJpsi = 0/0.0754661,gausspsi2S = 0/0.0442482,backgroundPDF = -0.00094889/1.12659), !coefficients=(NJpsi = 1179.41,Npsi = 78.5227,Nbkg = 3930.42)\n",
      "RooNLLVar::nll_totPDF_data[ paramSet=(NJpsi,Nbkg,Npsi,a1,a2,a3,alphaJpsi,meanJpsi,meanpsi2S,nJpsi,sigmaJpsi) ]\n",
      "     function value is NAN @ paramSet=(NJpsi = 1179.41,Nbkg = 3930.42,Npsi = 78.5227,a1 = -0.863278,a2 = 0.297506,a3 = -0.0302752,alphaJpsi = 1.49055,meanJpsi = 3.0997,meanpsi2S = 3.6,nJpsi = 0.642308,sigmaJpsi = 0.0176525)\n",
      "\n",
      "[#0] WARNING:Minization -- RooMinimizerFcn: Minimized function has error status.\n",
      "Returning maximum FCN so far (50512.8) to force MIGRAD to back out of this region. Error log follows\n",
      "Parameter values: NJpsi=205.933, Nbkg=282.578, Npsi=0.10153, a1=1.99808, a2=-0.544431, a3=0.0262115, alphaJpsi=1.70942, meanJpsi=3.09419, meanpsi2S=3.60069, nJpsi=0.501532, sigmaJpsi=0.0306231\n",
      "RooPolynomial::backgroundPDF[ x=mass coefList=(a1,a2,a3) ]\n",
      "     p.d.f value is less than zero (-0.650362), forcing value to zero @ x=mass=5.82316, coefList=(a1 = 1.99808,a2 = -0.544431,a3 = 0.0262115)\n",
      "     p.d.f value is less than zero (-0.190658), forcing value to zero @ x=mass=5.54455, coefList=(a1 = 1.99808,a2 = -0.544431,a3 = 0.0262115)\n",
      "     p.d.f value is less than zero (-0.134435), forcing value to zero @ x=mass=5.5098, coefList=(a1 = 1.99808,a2 = -0.544431,a3 = 0.0262115)\n",
      "     p.d.f value is less than zero (-0.369696), forcing value to zero @ x=mass=5.65416, coefList=(a1 = 1.99808,a2 = -0.544431,a3 = 0.0262115)\n",
      "     p.d.f value is less than zero (-0.071347), forcing value to zero @ x=mass=5.47061, coefList=(a1 = 1.99808,a2 = -0.544431,a3 = 0.0262115)\n",
      "     p.d.f value is less than zero (-0.280112), forcing value to zero @ x=mass=5.59951, coefList=(a1 = 1.99808,a2 = -0.544431,a3 = 0.0262115)\n",
      "     p.d.f value is less than zero (-0.162051), forcing value to zero @ x=mass=5.52689, coefList=(a1 = 1.99808,a2 = -0.544431,a3 = 0.0262115)\n",
      "     p.d.f value is less than zero (-0.321137), forcing value to zero @ x=mass=5.62458, coefList=(a1 = 1.99808,a2 = -0.544431,a3 = 0.0262115)\n",
      "     p.d.f value is less than zero (-0.689899), forcing value to zero @ x=mass=5.84672, coefList=(a1 = 1.99808,a2 = -0.544431,a3 = 0.0262115)\n",
      "     p.d.f value is less than zero (-0.877379), forcing value to zero @ x=mass=5.95771, coefList=(a1 = 1.99808,a2 = -0.544431,a3 = 0.0262115)\n",
      "     p.d.f value is less than zero (-0.908143), forcing value to zero @ x=mass=5.97581, coefList=(a1 = 1.99808,a2 = -0.544431,a3 = 0.0262115)\n",
      "     p.d.f value is less than zero (-0.867121), forcing value to zero @ x=mass=5.95167, coefList=(a1 = 1.99808,a2 = -0.544431,a3 = 0.0262115)\n",
      "    ... (remaining 19 messages suppressed)\n",
      "RooAddPdf::totPDF[ NJpsi * CBJpsi + Npsi * gausspsi2S + Nbkg * backgroundPDF ]\n",
      "     getLogVal() top-level p.d.f evaluates to zero @ !refCoefNorm=(), !pdfs=(CBJpsi = 0/0.114119,gausspsi2S = 0/0.0767607,backgroundPDF = -0.650362/6.60982), !coefficients=(NJpsi = 205.933,Npsi = 0.10153,Nbkg = 282.578)\n",
      "     getLogVal() top-level p.d.f evaluates to zero @ !refCoefNorm=(), !pdfs=(CBJpsi = 0/0.114119,gausspsi2S = 0/0.0767607,backgroundPDF = -0.190658/6.60982), !coefficients=(NJpsi = 205.933,Npsi = 0.10153,Nbkg = 282.578)\n",
      "     getLogVal() top-level p.d.f evaluates to zero @ !refCoefNorm=(), !pdfs=(CBJpsi = 0/0.114119,gausspsi2S = 0/0.0767607,backgroundPDF = -0.134435/6.60982), !coefficients=(NJpsi = 205.933,Npsi = 0.10153,Nbkg = 282.578)\n",
      "     getLogVal() top-level p.d.f evaluates to zero @ !refCoefNorm=(), !pdfs=(CBJpsi = 0/0.114119,gausspsi2S = 0/0.0767607,backgroundPDF = -0.369696/6.60982), !coefficients=(NJpsi = 205.933,Npsi = 0.10153,Nbkg = 282.578)\n",
      "     getLogVal() top-level p.d.f evaluates to zero @ !refCoefNorm=(), !pdfs=(CBJpsi = 0/0.114119,gausspsi2S = 0/0.0767607,backgroundPDF = -0.0713472/6.60982), !coefficients=(NJpsi = 205.933,Npsi = 0.10153,Nbkg = 282.578)\n",
      "     getLogVal() top-level p.d.f evaluates to zero @ !refCoefNorm=(), !pdfs=(CBJpsi = 0/0.114119,gausspsi2S = 0/0.0767607,backgroundPDF = -0.280112/6.60982), !coefficients=(NJpsi = 205.933,Npsi = 0.10153,Nbkg = 282.578)\n",
      "     getLogVal() top-level p.d.f evaluates to zero @ !refCoefNorm=(), !pdfs=(CBJpsi = 0/0.114119,gausspsi2S = 0/0.0767607,backgroundPDF = -0.162051/6.60982), !coefficients=(NJpsi = 205.933,Npsi = 0.10153,Nbkg = 282.578)\n",
      "     getLogVal() top-level p.d.f evaluates to zero @ !refCoefNorm=(), !pdfs=(CBJpsi = 0/0.114119,gausspsi2S = 0/0.0767607,backgroundPDF = -0.321137/6.60982), !coefficients=(NJpsi = 205.933,Npsi = 0.10153,Nbkg = 282.578)\n",
      "     getLogVal() top-level p.d.f evaluates to zero @ !refCoefNorm=(), !pdfs=(CBJpsi = 0/0.114119,gausspsi2S = 0/0.0767607,backgroundPDF = -0.689899/6.60982), !coefficients=(NJpsi = 205.933,Npsi = 0.10153,Nbkg = 282.578)\n",
      "     getLogVal() top-level p.d.f evaluates to zero @ !refCoefNorm=(), !pdfs=(CBJpsi = 0/0.114119,gausspsi2S = 0/0.0767607,backgroundPDF = -0.877379/6.60982), !coefficients=(NJpsi = 205.933,Npsi = 0.10153,Nbkg = 282.578)\n",
      "     getLogVal() top-level p.d.f evaluates to zero @ !refCoefNorm=(), !pdfs=(CBJpsi = 0/0.114119,gausspsi2S = 0/0.0767607,backgroundPDF = -0.908143/6.60982), !coefficients=(NJpsi = 205.933,Npsi = 0.10153,Nbkg = 282.578)\n",
      "     getLogVal() top-level p.d.f evaluates to zero @ !refCoefNorm=(), !pdfs=(CBJpsi = 0/0.114119,gausspsi2S = 0/0.0767607,backgroundPDF = -0.867121/6.60982), !coefficients=(NJpsi = 205.933,Npsi = 0.10153,Nbkg = 282.578)\n",
      "    ... (remaining 19 messages suppressed)\n",
      "RooNLLVar::nll_totPDF_data[ paramSet=(NJpsi,Nbkg,Npsi,a1,a2,a3,alphaJpsi,meanJpsi,meanpsi2S,nJpsi,sigmaJpsi) ]\n",
      "     function value is NAN @ paramSet=(NJpsi = 205.933,Nbkg = 282.578,Npsi = 0.10153,a1 = 1.99808,a2 = -0.544431,a3 = 0.0262115,alphaJpsi = 1.70942,meanJpsi = 3.09419,meanpsi2S = 3.60069,nJpsi = 0.501532,sigmaJpsi = 0.0306231)\n",
      "\n",
      "[#0] WARNING:Minization -- RooMinimizerFcn: Minimized function has error status.\n",
      "Returning maximum FCN so far (50512.8) to force MIGRAD to back out of this region. Error log follows\n",
      "Parameter values: NJpsi=201.088, Nbkg=284.884, Npsi=0.100782, a1=1.99568, a2=-0.612054, a3=0.0337008, alphaJpsi=1.73895, meanJpsi=3.09424, meanpsi2S=3.60083, nJpsi=0.501776, sigmaJpsi=0.029715\n",
      "RooPolynomial::backgroundPDF[ x=mass coefList=(a1,a2,a3) ]\n",
      "     p.d.f value is less than zero (-1.478564), forcing value to zero @ x=mass=5.82316, coefList=(a1 = 1.99568,a2 = -0.612054,a3 = 0.0337008)\n",
      "     p.d.f value is less than zero (-1.006289), forcing value to zero @ x=mass=5.54455, coefList=(a1 = 1.99568,a2 = -0.612054,a3 = 0.0337008)\n",
      "     p.d.f value is less than zero (-0.947858), forcing value to zero @ x=mass=5.5098, coefList=(a1 = 1.99568,a2 = -0.612054,a3 = 0.0337008)\n",
      "     p.d.f value is less than zero (-0.638295), forcing value to zero @ x=mass=5.32424, coefList=(a1 = 1.99568,a2 = -0.612054,a3 = 0.0337008)\n",
      "     p.d.f value is less than zero (-1.191382), forcing value to zero @ x=mass=5.65416, coefList=(a1 = 1.99568,a2 = -0.612054,a3 = 0.0337008)\n",
      "     p.d.f value is less than zero (-0.882117), forcing value to zero @ x=mass=5.47061, coefList=(a1 = 1.99568,a2 = -0.612054,a3 = 0.0337008)\n",
      "     p.d.f value is less than zero (-1.098953), forcing value to zero @ x=mass=5.59951, coefList=(a1 = 1.99568,a2 = -0.612054,a3 = 0.0337008)\n",
      "     p.d.f value is less than zero (-0.037513), forcing value to zero @ x=mass=4.95427, coefList=(a1 = 1.99568,a2 = -0.612054,a3 = 0.0337008)\n",
      "     p.d.f value is less than zero (-0.976577), forcing value to zero @ x=mass=5.52689, coefList=(a1 = 1.99568,a2 = -0.612054,a3 = 0.0337008)\n",
      "     p.d.f value is less than zero (-0.565357), forcing value to zero @ x=mass=5.2801, coefList=(a1 = 1.99568,a2 = -0.612054,a3 = 0.0337008)\n",
      "     p.d.f value is less than zero (-0.101038), forcing value to zero @ x=mass=4.99418, coefList=(a1 = 1.99568,a2 = -0.612054,a3 = 0.0337008)\n",
      "     p.d.f value is less than zero (-1.141327), forcing value to zero @ x=mass=5.62458, coefList=(a1 = 1.99568,a2 = -0.612054,a3 = 0.0337008)\n",
      "    ... (remaining 43 messages suppressed)\n",
      "RooAddPdf::totPDF[ NJpsi * CBJpsi + Npsi * gausspsi2S + Nbkg * backgroundPDF ]\n",
      "     getLogVal() top-level p.d.f evaluates to zero @ !refCoefNorm=(), !pdfs=(CBJpsi = 0/0.109289,gausspsi2S = 0/0.0744845,backgroundPDF = -1.47856/4.27943), !coefficients=(NJpsi = 201.088,Npsi = 0.100782,Nbkg = 284.884)\n",
      "     getLogVal() top-level p.d.f evaluates to zero @ !refCoefNorm=(), !pdfs=(CBJpsi = 0/0.109289,gausspsi2S = 0/0.0744845,backgroundPDF = -1.00629/4.27943), !coefficients=(NJpsi = 201.088,Npsi = 0.100782,Nbkg = 284.884)\n",
      "     getLogVal() top-level p.d.f evaluates to zero @ !refCoefNorm=(), !pdfs=(CBJpsi = 0/0.109289,gausspsi2S = 0/0.0744845,backgroundPDF = -0.947858/4.27943), !coefficients=(NJpsi = 201.088,Npsi = 0.100782,Nbkg = 284.884)\n",
      "     getLogVal() top-level p.d.f evaluates to zero @ !refCoefNorm=(), !pdfs=(CBJpsi = 0/0.109289,gausspsi2S = 0/0.0744845,backgroundPDF = -0.638295/4.27943), !coefficients=(NJpsi = 201.088,Npsi = 0.100782,Nbkg = 284.884)\n",
      "     getLogVal() top-level p.d.f evaluates to zero @ !refCoefNorm=(), !pdfs=(CBJpsi = 0/0.109289,gausspsi2S = 0/0.0744845,backgroundPDF = -1.19138/4.27943), !coefficients=(NJpsi = 201.088,Npsi = 0.100782,Nbkg = 284.884)\n",
      "     getLogVal() top-level p.d.f evaluates to zero @ !refCoefNorm=(), !pdfs=(CBJpsi = 0/0.109289,gausspsi2S = 0/0.0744845,backgroundPDF = -0.882117/4.27943), !coefficients=(NJpsi = 201.088,Npsi = 0.100782,Nbkg = 284.884)\n",
      "     getLogVal() top-level p.d.f evaluates to zero @ !refCoefNorm=(), !pdfs=(CBJpsi = 0/0.109289,gausspsi2S = 0/0.0744845,backgroundPDF = -1.09895/4.27943), !coefficients=(NJpsi = 201.088,Npsi = 0.100782,Nbkg = 284.884)\n",
      "     getLogVal() top-level p.d.f evaluates to zero @ !refCoefNorm=(), !pdfs=(CBJpsi = 0/0.109289,gausspsi2S = 0/0.0744845,backgroundPDF = -0.0375126/4.27943), !coefficients=(NJpsi = 201.088,Npsi = 0.100782,Nbkg = 284.884)\n",
      "     getLogVal() top-level p.d.f evaluates to zero @ !refCoefNorm=(), !pdfs=(CBJpsi = 0/0.109289,gausspsi2S = 0/0.0744845,backgroundPDF = -0.976577/4.27943), !coefficients=(NJpsi = 201.088,Npsi = 0.100782,Nbkg = 284.884)\n",
      "     getLogVal() top-level p.d.f evaluates to zero @ !refCoefNorm=(), !pdfs=(CBJpsi = 0/0.109289,gausspsi2S = 0/0.0744845,backgroundPDF = -0.565357/4.27943), !coefficients=(NJpsi = 201.088,Npsi = 0.100782,Nbkg = 284.884)\n",
      "     getLogVal() top-level p.d.f evaluates to zero @ !refCoefNorm=(), !pdfs=(CBJpsi = 0/0.109289,gausspsi2S = 0/0.0744845,backgroundPDF = -0.101038/4.27943), !coefficients=(NJpsi = 201.088,Npsi = 0.100782,Nbkg = 284.884)\n",
      "     getLogVal() top-level p.d.f evaluates to zero @ !refCoefNorm=(), !pdfs=(CBJpsi = 0/0.109289,gausspsi2S = 0/0.0744845,backgroundPDF = -1.14133/4.27943), !coefficients=(NJpsi = 201.088,Npsi = 0.100782,Nbkg = 284.884)\n",
      "    ... (remaining 43 messages suppressed)\n",
      "RooNLLVar::nll_totPDF_data[ paramSet=(NJpsi,Nbkg,Npsi,a1,a2,a3,alphaJpsi,meanJpsi,meanpsi2S,nJpsi,sigmaJpsi) ]\n",
      "     function value is NAN @ paramSet=(NJpsi = 201.088,Nbkg = 284.884,Npsi = 0.100782,a1 = 1.99568,a2 = -0.612054,a3 = 0.0337008,alphaJpsi = 1.73895,meanJpsi = 3.09424,meanpsi2S = 3.60083,nJpsi = 0.501776,sigmaJpsi = 0.029715)\n",
      "\n",
      "[#0] WARNING:Minization -- RooMinimizerFcn: Minimized function has error status.\n",
      "Returning maximum FCN so far (50512.8) to force MIGRAD to back out of this region. Error log follows\n",
      "Parameter values: NJpsi=184.916, Nbkg=293.901, Npsi=0.192402, a1=1.99161, a2=-0.88772, a3=0.0899546, alphaJpsi=1.84523, meanJpsi=3.09445, meanpsi2S=3.60182, nJpsi=0.502152, sigmaJpsi=0.0270556\n",
      "RooPolynomial::backgroundPDF[ x=mass coefList=(a1,a2,a3) ]\n",
      "     p.d.f value is less than zero (-0.000813), forcing value to zero @ x=mass=5.14047, coefList=(a1 = 1.99161,a2 = -0.88772,a3 = 0.0899546)\n",
      "     p.d.f value is less than zero (-0.000751), forcing value to zero @ x=mass=5.15625, coefList=(a1 = 1.99161,a2 = -0.88772,a3 = 0.0899546)\n",
      "     p.d.f value is less than zero (-0.000294), forcing value to zero @ x=mass=5.11193, coefList=(a1 = 1.99161,a2 = -0.88772,a3 = 0.0899546)\n",
      "     p.d.f value is less than zero (-0.000443), forcing value to zero @ x=mass=5.11692, coefList=(a1 = 1.99161,a2 = -0.88772,a3 = 0.0899546)\n",
      "RooAddPdf::totPDF[ NJpsi * CBJpsi + Npsi * gausspsi2S + Nbkg * backgroundPDF ]\n",
      "     getLogVal() top-level p.d.f evaluates to zero @ !refCoefNorm=(), !pdfs=(CBJpsi = 0/0.0947914,gausspsi2S = 0/0.0678183,backgroundPDF = -0.000812576/3.10259), !coefficients=(NJpsi = 184.916,Npsi = 0.192402,Nbkg = 293.901)\n",
      "     getLogVal() top-level p.d.f evaluates to zero @ !refCoefNorm=(), !pdfs=(CBJpsi = 0/0.0947914,gausspsi2S = 0/0.0678183,backgroundPDF = -0.000750834/3.10259), !coefficients=(NJpsi = 184.916,Npsi = 0.192402,Nbkg = 293.901)\n",
      "     getLogVal() top-level p.d.f evaluates to zero @ !refCoefNorm=(), !pdfs=(CBJpsi = 0/0.0947914,gausspsi2S = 0/0.0678183,backgroundPDF = -0.000293837/3.10259), !coefficients=(NJpsi = 184.916,Npsi = 0.192402,Nbkg = 293.901)\n",
      "     getLogVal() top-level p.d.f evaluates to zero @ !refCoefNorm=(), !pdfs=(CBJpsi = 0/0.0947914,gausspsi2S = 0/0.0678183,backgroundPDF = -0.000442516/3.10259), !coefficients=(NJpsi = 184.916,Npsi = 0.192402,Nbkg = 293.901)\n",
      "RooNLLVar::nll_totPDF_data[ paramSet=(NJpsi,Nbkg,Npsi,a1,a2,a3,alphaJpsi,meanJpsi,meanpsi2S,nJpsi,sigmaJpsi) ]\n",
      "     function value is NAN @ paramSet=(NJpsi = 184.916,Nbkg = 293.901,Npsi = 0.192402,a1 = 1.99161,a2 = -0.88772,a3 = 0.0899546,alphaJpsi = 1.84523,meanJpsi = 3.09445,meanpsi2S = 3.60182,nJpsi = 0.502152,sigmaJpsi = 0.0270556)\n",
      "\n",
      "[#0] WARNING:Minization -- RooMinimizerFcn: Minimized function has error status.\n",
      "Returning maximum FCN so far (50512.8) to force MIGRAD to back out of this region. Error log follows\n",
      "Parameter values: NJpsi=181.442, Nbkg=296.4, Npsi=0.218865, a1=1.97266, a2=-0.951951, a3=0.099784, alphaJpsi=1.86774, meanJpsi=3.09447, meanpsi2S=3.60208, nJpsi=0.502273, sigmaJpsi=0.0266196\n",
      "RooPolynomial::backgroundPDF[ x=mass coefList=(a1,a2,a3) ]\n",
      "     p.d.f value is less than zero (-0.074995), forcing value to zero @ x=mass=4.14801, coefList=(a1 = 1.97266,a2 = -0.951951,a3 = 0.099784)\n",
      "     p.d.f value is less than zero (-0.436147), forcing value to zero @ x=mass=4.82852, coefList=(a1 = 1.97266,a2 = -0.951951,a3 = 0.099784)\n",
      "     p.d.f value is less than zero (-0.447584), forcing value to zero @ x=mass=4.88184, coefList=(a1 = 1.97266,a2 = -0.951951,a3 = 0.099784)\n",
      "     p.d.f value is less than zero (-0.426562), forcing value to zero @ x=mass=4.79154, coefList=(a1 = 1.97266,a2 = -0.951951,a3 = 0.099784)\n",
      "     p.d.f value is less than zero (-0.089560), forcing value to zero @ x=mass=5.82316, coefList=(a1 = 1.97266,a2 = -0.951951,a3 = 0.099784)\n",
      "     p.d.f value is less than zero (-0.319145), forcing value to zero @ x=mass=5.54455, coefList=(a1 = 1.97266,a2 = -0.951951,a3 = 0.099784)\n",
      "     p.d.f value is less than zero (-0.339806), forcing value to zero @ x=mass=5.5098, coefList=(a1 = 1.97266,a2 = -0.951951,a3 = 0.099784)\n",
      "     p.d.f value is less than zero (-0.445115), forcing value to zero @ x=mass=4.86912, coefList=(a1 = 1.97266,a2 = -0.951951,a3 = 0.099784)\n",
      "     p.d.f value is less than zero (-0.057492), forcing value to zero @ x=mass=4.12558, coefList=(a1 = 1.97266,a2 = -0.951951,a3 = 0.099784)\n",
      "     p.d.f value is less than zero (-0.422242), forcing value to zero @ x=mass=5.32424, coefList=(a1 = 1.97266,a2 = -0.951951,a3 = 0.099784)\n",
      "     p.d.f value is less than zero (-0.101824), forcing value to zero @ x=mass=4.18313, coefList=(a1 = 1.97266,a2 = -0.951951,a3 = 0.099784)\n",
      "     p.d.f value is less than zero (-0.242651), forcing value to zero @ x=mass=5.65416, coefList=(a1 = 1.97266,a2 = -0.951951,a3 = 0.099784)\n",
      "    ... (remaining 78 messages suppressed)\n",
      "RooAddPdf::totPDF[ NJpsi * CBJpsi + Npsi * gausspsi2S + Nbkg * backgroundPDF ]\n",
      "     getLogVal() top-level p.d.f evaluates to zero @ !refCoefNorm=(), !pdfs=(CBJpsi = 0/0.0922783,gausspsi2S = 0/0.0667255,backgroundPDF = -0.436147/1.4915), !coefficients=(NJpsi = 181.442,Npsi = 0.218865,Nbkg = 296.4)\n",
      "     getLogVal() top-level p.d.f evaluates to zero @ !refCoefNorm=(), !pdfs=(CBJpsi = 0/0.0922783,gausspsi2S = 0/0.0667255,backgroundPDF = -0.447584/1.4915), !coefficients=(NJpsi = 181.442,Npsi = 0.218865,Nbkg = 296.4)\n",
      "     getLogVal() top-level p.d.f evaluates to zero @ !refCoefNorm=(), !pdfs=(CBJpsi = 0/0.0922783,gausspsi2S = 0/0.0667255,backgroundPDF = -0.426562/1.4915), !coefficients=(NJpsi = 181.442,Npsi = 0.218865,Nbkg = 296.4)\n",
      "     getLogVal() top-level p.d.f evaluates to zero @ !refCoefNorm=(), !pdfs=(CBJpsi = 0/0.0922783,gausspsi2S = 0/0.0667255,backgroundPDF = -0.08956/1.4915), !coefficients=(NJpsi = 181.442,Npsi = 0.218865,Nbkg = 296.4)\n",
      "     getLogVal() top-level p.d.f evaluates to zero @ !refCoefNorm=(), !pdfs=(CBJpsi = 0/0.0922783,gausspsi2S = 0/0.0667255,backgroundPDF = -0.319145/1.4915), !coefficients=(NJpsi = 181.442,Npsi = 0.218865,Nbkg = 296.4)\n",
      "     getLogVal() top-level p.d.f evaluates to zero @ !refCoefNorm=(), !pdfs=(CBJpsi = 0/0.0922783,gausspsi2S = 0/0.0667255,backgroundPDF = -0.339806/1.4915), !coefficients=(NJpsi = 181.442,Npsi = 0.218865,Nbkg = 296.4)\n",
      "     getLogVal() top-level p.d.f evaluates to zero @ !refCoefNorm=(), !pdfs=(CBJpsi = 0/0.0922783,gausspsi2S = 0/0.0667255,backgroundPDF = -0.445115/1.4915), !coefficients=(NJpsi = 181.442,Npsi = 0.218865,Nbkg = 296.4)\n",
      "     getLogVal() top-level p.d.f evaluates to zero @ !refCoefNorm=(), !pdfs=(CBJpsi = 0/0.0922783,gausspsi2S = 0/0.0667255,backgroundPDF = -0.422242/1.4915), !coefficients=(NJpsi = 181.442,Npsi = 0.218865,Nbkg = 296.4)\n",
      "     getLogVal() top-level p.d.f evaluates to zero @ !refCoefNorm=(), !pdfs=(CBJpsi = 0/0.0922783,gausspsi2S = 0/0.0667255,backgroundPDF = -0.242651/1.4915), !coefficients=(NJpsi = 181.442,Npsi = 0.218865,Nbkg = 296.4)\n",
      "     getLogVal() top-level p.d.f evaluates to zero @ !refCoefNorm=(), !pdfs=(CBJpsi = 0/0.0922783,gausspsi2S = 0/0.0667255,backgroundPDF = -0.361089/1.4915), !coefficients=(NJpsi = 181.442,Npsi = 0.218865,Nbkg = 296.4)\n",
      "     getLogVal() top-level p.d.f evaluates to zero @ !refCoefNorm=(), !pdfs=(CBJpsi = 0/0.0922783,gausspsi2S = 0/0.0667255,backgroundPDF = -0.282967/1.4915), !coefficients=(NJpsi = 181.442,Npsi = 0.218865,Nbkg = 296.4)\n",
      "     getLogVal() top-level p.d.f evaluates to zero @ !refCoefNorm=(), !pdfs=(CBJpsi = 0/0.0922783,gausspsi2S = 0/0.0667255,backgroundPDF = -0.458462/1.4915), !coefficients=(NJpsi = 181.442,Npsi = 0.218865,Nbkg = 296.4)\n",
      "    ... (remaining 59 messages suppressed)\n",
      "RooNLLVar::nll_totPDF_data[ paramSet=(NJpsi,Nbkg,Npsi,a1,a2,a3,alphaJpsi,meanJpsi,meanpsi2S,nJpsi,sigmaJpsi) ]\n",
      "     function value is NAN @ paramSet=(NJpsi = 181.442,Nbkg = 296.4,Npsi = 0.218865,a1 = 1.97266,a2 = -0.951951,a3 = 0.099784,alphaJpsi = 1.86774,meanJpsi = 3.09447,meanpsi2S = 3.60208,nJpsi = 0.502273,sigmaJpsi = 0.0266196)\n",
      "\n",
      "[#0] WARNING:Minization -- RooMinimizerFcn: Minimized function has error status.\n",
      "Returning maximum FCN so far (50512.8) to force MIGRAD to back out of this region. Error log follows\n",
      "Parameter values: NJpsi=169.375, Nbkg=306.394, Npsi=0.298993, a1=1.83686, a2=-1.15726, a3=0.132976, alphaJpsi=1.94788, meanJpsi=3.0945, meanpsi2S=3.60305, nJpsi=0.502843, sigmaJpsi=0.0255109\n",
      "RooPolynomial::backgroundPDF[ x=mass coefList=(a1,a2,a3) ]\n",
      "     p.d.f value is less than zero (-0.468960), forcing value to zero @ x=mass=3.10232, coefList=(a1 = 1.83686,a2 = -1.15726,a3 = 0.132976)\n",
      "     p.d.f normalization integral is zero or negative: -4.2942 @ x=mass=3.10232, coefList=(a1 = 1.83686,a2 = -1.15726,a3 = 0.132976)\n",
      "     p.d.f normalization integral is zero or negative: -4.2942 @ x=mass=2.3012, coefList=(a1 = 1.83686,a2 = -1.15726,a3 = 0.132976)\n",
      "     p.d.f value is less than zero (-1.801804), forcing value to zero @ x=mass=4.14801, coefList=(a1 = 1.83686,a2 = -1.15726,a3 = 0.132976)\n",
      "     p.d.f normalization integral is zero or negative: -4.2942 @ x=mass=4.14801, coefList=(a1 = 1.83686,a2 = -1.15726,a3 = 0.132976)\n",
      "     p.d.f value is less than zero (-0.513268), forcing value to zero @ x=mass=3.13183, coefList=(a1 = 1.83686,a2 = -1.15726,a3 = 0.132976)\n",
      "     p.d.f normalization integral is zero or negative: -4.2942 @ x=mass=3.13183, coefList=(a1 = 1.83686,a2 = -1.15726,a3 = 0.132976)\n",
      "     p.d.f value is less than zero (-2.141825), forcing value to zero @ x=mass=4.82852, coefList=(a1 = 1.83686,a2 = -1.15726,a3 = 0.132976)\n",
      "     p.d.f normalization integral is zero or negative: -4.2942 @ x=mass=4.82852, coefList=(a1 = 1.83686,a2 = -1.15726,a3 = 0.132976)\n",
      "     p.d.f value is less than zero (-0.649316), forcing value to zero @ x=mass=3.22318, coefList=(a1 = 1.83686,a2 = -1.15726,a3 = 0.132976)\n",
      "     p.d.f normalization integral is zero or negative: -4.2942 @ x=mass=3.22318, coefList=(a1 = 1.83686,a2 = -1.15726,a3 = 0.132976)\n",
      "     p.d.f normalization integral is zero or negative: -4.2942 @ x=mass=2.53242, coefList=(a1 = 1.83686,a2 = -1.15726,a3 = 0.132976)\n",
      "    ... (remaining 867 messages suppressed)\n",
      "RooAddPdf::totPDF[ NJpsi * CBJpsi + Npsi * gausspsi2S + Nbkg * backgroundPDF ]\n",
      "     getLogVal() top-level p.d.f evaluates to zero @ !refCoefNorm=(), !pdfs=(CBJpsi = 0/0.0850615,gausspsi2S = 0/0.0639464,backgroundPDF = -2.14183/-4.2942), !coefficients=(NJpsi = 169.375,Npsi = 0.298993,Nbkg = 306.394)\n",
      "     getLogVal() top-level p.d.f evaluates to zero @ !refCoefNorm=(), !pdfs=(CBJpsi = 0/0.0850615,gausspsi2S = 0/0.0639464,backgroundPDF = -2.14164/-4.2942), !coefficients=(NJpsi = 169.375,Npsi = 0.298993,Nbkg = 306.394)\n",
      "     getLogVal() top-level p.d.f evaluates to zero @ !refCoefNorm=(), !pdfs=(CBJpsi = 0/0.0850615,gausspsi2S = 0/0.0639464,backgroundPDF = -2.13938/-4.2942), !coefficients=(NJpsi = 169.375,Npsi = 0.298993,Nbkg = 306.394)\n",
      "     getLogVal() top-level p.d.f evaluates to zero @ !refCoefNorm=(), !pdfs=(CBJpsi = 0/0.0850615,gausspsi2S = 0/0.0639464,backgroundPDF = -1.28794/-4.2942), !coefficients=(NJpsi = 169.375,Npsi = 0.298993,Nbkg = 306.394)\n",
      "     getLogVal() top-level p.d.f evaluates to zero @ !refCoefNorm=(), !pdfs=(CBJpsi = 0/0.0850615,gausspsi2S = 0/0.0639464,backgroundPDF = -1.72592/-4.2942), !coefficients=(NJpsi = 169.375,Npsi = 0.298993,Nbkg = 306.394)\n",
      "     getLogVal() top-level p.d.f evaluates to zero @ !refCoefNorm=(), !pdfs=(CBJpsi = 0/0.0850615,gausspsi2S = 0/0.0639464,backgroundPDF = -1.7687/-4.2942), !coefficients=(NJpsi = 169.375,Npsi = 0.298993,Nbkg = 306.394)\n",
      "     getLogVal() top-level p.d.f evaluates to zero @ !refCoefNorm=(), !pdfs=(CBJpsi = 0/0.0850615,gausspsi2S = 0/0.0639464,backgroundPDF = -2.14209/-4.2942), !coefficients=(NJpsi = 169.375,Npsi = 0.298993,Nbkg = 306.394)\n",
      "     getLogVal() top-level p.d.f evaluates to zero @ !refCoefNorm=(), !pdfs=(CBJpsi = 0/0.0850615,gausspsi2S = 0/0.0639464,backgroundPDF = -1.95546/-4.2942), !coefficients=(NJpsi = 169.375,Npsi = 0.298993,Nbkg = 306.394)\n",
      "     getLogVal() top-level p.d.f evaluates to zero @ !refCoefNorm=(), !pdfs=(CBJpsi = 0/0.0850615,gausspsi2S = 0/0.0639464,backgroundPDF = -1.5741/-4.2942), !coefficients=(NJpsi = 169.375,Npsi = 0.298993,Nbkg = 306.394)\n",
      "     getLogVal() top-level p.d.f evaluates to zero @ !refCoefNorm=(), !pdfs=(CBJpsi = 0/0.0850615,gausspsi2S = 0/0.0639464,backgroundPDF = -1.81395/-4.2942), !coefficients=(NJpsi = 169.375,Npsi = 0.298993,Nbkg = 306.394)\n",
      "     getLogVal() top-level p.d.f evaluates to zero @ !refCoefNorm=(), !pdfs=(CBJpsi = 0/0.0850615,gausspsi2S = 0/0.0639464,backgroundPDF = -1.65303/-4.2942), !coefficients=(NJpsi = 169.375,Npsi = 0.298993,Nbkg = 306.394)\n",
      "     getLogVal() top-level p.d.f evaluates to zero @ !refCoefNorm=(), !pdfs=(CBJpsi = 0/0.0850615,gausspsi2S = 0/0.0639464,backgroundPDF = -2.13417/-4.2942), !coefficients=(NJpsi = 169.375,Npsi = 0.298993,Nbkg = 306.394)\n",
      "    ... (remaining 67 messages suppressed)\n",
      "RooNLLVar::nll_totPDF_data[ paramSet=(NJpsi,Nbkg,Npsi,a1,a2,a3,alphaJpsi,meanJpsi,meanpsi2S,nJpsi,sigmaJpsi) ]\n",
      "     function value is NAN @ paramSet=(NJpsi = 169.375,Nbkg = 306.394,Npsi = 0.298993,a1 = 1.83686,a2 = -1.15726,a3 = 0.132976,alphaJpsi = 1.94788,meanJpsi = 3.0945,meanpsi2S = 3.60305,nJpsi = 0.502843,sigmaJpsi = 0.0255109)\n",
      "\n",
      " MIGRAD MINIMIZATION HAS CONVERGED.\n",
      " MIGRAD WILL VERIFY CONVERGENCE AND ERROR MATRIX.\n",
      " MINUIT WARNING IN HESSE   \n",
      " ============== Negative diagonal element 9 in Error Matrix\n",
      " MINUIT WARNING IN HESSE   \n",
      " ============== 1.05918 added to diagonal of error matrix\n",
      " COVARIANCE MATRIX CALCULATED SUCCESSFULLY\n",
      " FCN=-2190.09 FROM MIGRAD    STATUS=CONVERGED    1335 CALLS        1336 TOTAL\n",
      "                     EDM=4.8578e-05    STRATEGY= 1      ERROR MATRIX ACCURATE \n",
      "  EXT PARAMETER                                   STEP         FIRST   \n",
      "  NO.   NAME      VALUE            ERROR          SIZE      DERIVATIVE \n",
      "   1  NJpsi        1.53223e+02   1.96623e+01   3.61111e-04  -3.48564e-02\n",
      "   2  Nbkg         3.46723e+02   2.41029e+01   1.51438e-04  -2.87169e-02\n",
      "   3  Npsi         1.00000e-01   1.27194e+00   1.03082e-03** at limit **\n",
      "   4  a1           1.99990e+00   3.72316e-01   2.02812e-02   1.49573e-03\n",
      "   5  a2          -8.17882e-01   1.97948e-02   6.70414e-05  -2.84483e-01\n",
      "   6  a3           8.07000e-02   3.49449e-03   1.09593e-05  -1.92396e+00\n",
      "   7  alphaJpsi    1.72116e+00   3.58769e-01   1.50243e-03  -2.22403e-02\n",
      "   8  meanJpsi     3.09343e+00   3.29610e-03   6.00413e-04   9.12184e-03\n",
      "   9  meanpsi2S    3.60392e+00   1.33754e-01   1.33532e-01   6.55040e-03\n",
      "  10  nJpsi        1.25234e+00   8.91628e-01   8.85211e-03   7.69934e-04\n",
      "  11  sigmaJpsi    3.23329e-02   2.98939e-03   5.32079e-04  -7.73828e-02\n",
      "                               ERR DEF= 0.5\n",
      " EXTERNAL ERROR MATRIX.    NDIM=  25    NPAR= 11    ERR DEF=0.5\n",
      "  3.866e+02 \n",
      " -2.338e+02  5.810e+02 \n",
      " -3.431e-05  7.088e-05  2.020e-06 \n",
      "  6.083e-05 -6.091e-05  1.445e-11  1.525e-04 \n",
      " -5.544e-02  5.552e-02 -6.193e-09  4.549e-07  3.918e-04 \n",
      "  4.330e-03 -4.334e-03  2.320e-09  3.225e-09 -6.755e-05  1.221e-05 \n",
      " -7.136e-01  7.159e-01  6.049e-08 -5.153e-07  3.905e-04 -4.943e-05  1.290e-01 \n",
      " -3.217e-03  3.223e-03  2.426e-10 -4.859e-10  5.187e-07 -2.064e-08 -3.212e-06  1.087e-05 \n",
      "  8.588e-05 -1.891e-04 -6.159e-08 -1.190e-10  7.494e-08 -1.501e-08 -1.539e-08 -8.431e-11  7.695e-04 \n",
      " -1.055e+01  1.057e+01  1.176e-06 -3.737e-06  3.173e-03 -3.046e-04  2.298e-01  1.585e-04 -1.948e-06  8.835e-01 \n",
      "  6.815e-03 -6.832e-03 -8.849e-09 -3.565e-10 -1.688e-07 -1.092e-07  2.339e-05  1.683e-07  4.143e-08  9.465e-05  8.937e-06 \n",
      " PARAMETER  CORRELATION COEFFICIENTS  \n",
      "       NO.  GLOBAL      1      2      3      4      5      6      7      8      9     10     11\n",
      "        1  0.71637   1.000 -0.493 -0.001  0.000 -0.142  0.063 -0.101 -0.050  0.000 -0.571  0.116\n",
      "        2  0.59128  -0.493  1.000  0.002 -0.000  0.116 -0.051  0.083  0.041 -0.000  0.467 -0.095\n",
      "        3  0.00328  -0.001  0.002  1.000  0.000 -0.000  0.000  0.000  0.000 -0.002  0.001 -0.002\n",
      "        4  0.01028   0.000 -0.000  0.000  1.000  0.002  0.000 -0.000 -0.000 -0.000 -0.000 -0.000\n",
      "        5  0.98150  -0.142  0.116 -0.000  0.002  1.000 -0.976  0.055  0.008  0.000  0.171 -0.003\n",
      "        6  0.98098   0.063 -0.051  0.000  0.000 -0.976  1.000 -0.039 -0.002 -0.000 -0.093 -0.010\n",
      "        7  0.79392  -0.101  0.083  0.000 -0.000  0.055 -0.039  1.000 -0.003 -0.000  0.681  0.022\n",
      "        8  0.07428  -0.050  0.041  0.000 -0.000  0.008 -0.002 -0.003  1.000 -0.000  0.051  0.017\n",
      "        9  0.00166   0.000 -0.000 -0.002 -0.000  0.000 -0.000 -0.000 -0.000  1.000 -0.000  0.000\n",
      "       10  0.88147  -0.571  0.467  0.001 -0.000  0.171 -0.093  0.681  0.051 -0.000  1.000  0.034\n",
      "       11  0.22551   0.116 -0.095 -0.002 -0.000 -0.003 -0.010  0.022  0.017  0.000  0.034  1.000\n",
      " **********\n",
      " **    7 **SET ERR         0.5\n",
      " **********\n",
      " **********\n",
      " **    8 **SET PRINT           1\n",
      " **********\n",
      " **********\n",
      " **    9 **HESSE        5500\n",
      " **********\n",
      "[#0] WARNING:Minization -- RooMinimizerFcn: Minimized function has error status.\n",
      "Returning maximum FCN so far (50512.8) to force MIGRAD to back out of this region. Error log follows\n",
      "Parameter values: NJpsi=153.223, Nbkg=346.723, Npsi=0.1, a1=1.87601, a2=-0.817882, a3=0.0807, alphaJpsi=1.72116, meanJpsi=3.09343, meanpsi2S=3.60392, nJpsi=1.25234, sigmaJpsi=0.0323329\n",
      "RooPolynomial::backgroundPDF[ x=mass coefList=(a1,a2,a3) ]\n",
      "     p.d.f value is less than zero (-0.016633), forcing value to zero @ x=mass=5.32424, coefList=(a1 = 1.87601 +/- 0.372316,a2 = -0.817882 +/- 0.0197948,a3 = 0.0807 +/- 0.00349449)\n",
      "     p.d.f value is less than zero (-0.001933), forcing value to zero @ x=mass=5.47061, coefList=(a1 = 1.87601 +/- 0.372316,a2 = -0.817882 +/- 0.0197948,a3 = 0.0807 +/- 0.00349449)\n",
      "     p.d.f value is less than zero (-0.017035), forcing value to zero @ x=mass=5.2801, coefList=(a1 = 1.87601 +/- 0.372316,a2 = -0.817882 +/- 0.0197948,a3 = 0.0807 +/- 0.00349449)\n",
      "     p.d.f value is less than zero (-0.006690), forcing value to zero @ x=mass=5.14047, coefList=(a1 = 1.87601 +/- 0.372316,a2 = -0.817882 +/- 0.0197948,a3 = 0.0807 +/- 0.00349449)\n",
      "     p.d.f value is less than zero (-0.008718), forcing value to zero @ x=mass=5.15625, coefList=(a1 = 1.87601 +/- 0.372316,a2 = -0.817882 +/- 0.0197948,a3 = 0.0807 +/- 0.00349449)\n",
      "     p.d.f value is less than zero (-0.014628), forcing value to zero @ x=mass=5.36506, coefList=(a1 = 1.87601 +/- 0.372316,a2 = -0.817882 +/- 0.0197948,a3 = 0.0807 +/- 0.00349449)\n",
      "     p.d.f value is less than zero (-0.006697), forcing value to zero @ x=mass=5.44038, coefList=(a1 = 1.87601 +/- 0.372316,a2 = -0.817882 +/- 0.0197948,a3 = 0.0807 +/- 0.00349449)\n",
      "     p.d.f value is less than zero (-0.002485), forcing value to zero @ x=mass=5.11193, coefList=(a1 = 1.87601 +/- 0.372316,a2 = -0.817882 +/- 0.0197948,a3 = 0.0807 +/- 0.00349449)\n",
      "     p.d.f value is less than zero (-0.012636), forcing value to zero @ x=mass=5.3898, coefList=(a1 = 1.87601 +/- 0.372316,a2 = -0.817882 +/- 0.0197948,a3 = 0.0807 +/- 0.00349449)\n",
      "     p.d.f value is less than zero (-0.015331), forcing value to zero @ x=mass=5.2302, coefList=(a1 = 1.87601 +/- 0.372316,a2 = -0.817882 +/- 0.0197948,a3 = 0.0807 +/- 0.00349449)\n",
      "     p.d.f value is less than zero (-0.016136), forcing value to zero @ x=mass=5.33796, coefList=(a1 = 1.87601 +/- 0.372316,a2 = -0.817882 +/- 0.0197948,a3 = 0.0807 +/- 0.00349449)\n",
      "     p.d.f value is less than zero (-0.003269), forcing value to zero @ x=mass=5.11692, coefList=(a1 = 1.87601 +/- 0.372316,a2 = -0.817882 +/- 0.0197948,a3 = 0.0807 +/- 0.00349449)\n",
      "    ... (remaining 7 messages suppressed)\n",
      "RooAddPdf::totPDF[ NJpsi * CBJpsi + Npsi * gausspsi2S + Nbkg * backgroundPDF ]\n",
      "     getLogVal() top-level p.d.f evaluates to zero @ !refCoefNorm=(), !pdfs=(CBJpsi = 0/0.0906842,gausspsi2S = 0/0.0810466,backgroundPDF = -0.016633/3.13368), !coefficients=(NJpsi = 153.223 +/- 19.6623,Npsi = 0.1 +/- 1.27194,Nbkg = 346.723 +/- 24.1029)\n",
      "     getLogVal() top-level p.d.f evaluates to zero @ !refCoefNorm=(), !pdfs=(CBJpsi = 0/0.0906842,gausspsi2S = 0/0.0810466,backgroundPDF = -0.00193334/3.13368), !coefficients=(NJpsi = 153.223 +/- 19.6623,Npsi = 0.1 +/- 1.27194,Nbkg = 346.723 +/- 24.1029)\n",
      "     getLogVal() top-level p.d.f evaluates to zero @ !refCoefNorm=(), !pdfs=(CBJpsi = 0/0.0906842,gausspsi2S = 0/0.0810466,backgroundPDF = -0.0170351/3.13368), !coefficients=(NJpsi = 153.223 +/- 19.6623,Npsi = 0.1 +/- 1.27194,Nbkg = 346.723 +/- 24.1029)\n",
      "     getLogVal() top-level p.d.f evaluates to zero @ !refCoefNorm=(), !pdfs=(CBJpsi = 0/0.0906842,gausspsi2S = 0/0.0810466,backgroundPDF = -0.00669042/3.13368), !coefficients=(NJpsi = 153.223 +/- 19.6623,Npsi = 0.1 +/- 1.27194,Nbkg = 346.723 +/- 24.1029)\n",
      "     getLogVal() top-level p.d.f evaluates to zero @ !refCoefNorm=(), !pdfs=(CBJpsi = 0/0.0906842,gausspsi2S = 0/0.0810466,backgroundPDF = -0.00871778/3.13368), !coefficients=(NJpsi = 153.223 +/- 19.6623,Npsi = 0.1 +/- 1.27194,Nbkg = 346.723 +/- 24.1029)\n",
      "     getLogVal() top-level p.d.f evaluates to zero @ !refCoefNorm=(), !pdfs=(CBJpsi = 0/0.0906842,gausspsi2S = 0/0.0810466,backgroundPDF = -0.0146285/3.13368), !coefficients=(NJpsi = 153.223 +/- 19.6623,Npsi = 0.1 +/- 1.27194,Nbkg = 346.723 +/- 24.1029)\n",
      "     getLogVal() top-level p.d.f evaluates to zero @ !refCoefNorm=(), !pdfs=(CBJpsi = 0/0.0906842,gausspsi2S = 0/0.0810466,backgroundPDF = -0.0066974/3.13368), !coefficients=(NJpsi = 153.223 +/- 19.6623,Npsi = 0.1 +/- 1.27194,Nbkg = 346.723 +/- 24.1029)\n",
      "     getLogVal() top-level p.d.f evaluates to zero @ !refCoefNorm=(), !pdfs=(CBJpsi = 0/0.0906842,gausspsi2S = 0/0.0810466,backgroundPDF = -0.00248516/3.13368), !coefficients=(NJpsi = 153.223 +/- 19.6623,Npsi = 0.1 +/- 1.27194,Nbkg = 346.723 +/- 24.1029)\n",
      "     getLogVal() top-level p.d.f evaluates to zero @ !refCoefNorm=(), !pdfs=(CBJpsi = 0/0.0906842,gausspsi2S = 0/0.0810466,backgroundPDF = -0.0126356/3.13368), !coefficients=(NJpsi = 153.223 +/- 19.6623,Npsi = 0.1 +/- 1.27194,Nbkg = 346.723 +/- 24.1029)\n",
      "     getLogVal() top-level p.d.f evaluates to zero @ !refCoefNorm=(), !pdfs=(CBJpsi = 0/0.0906842,gausspsi2S = 0/0.0810466,backgroundPDF = -0.0153311/3.13368), !coefficients=(NJpsi = 153.223 +/- 19.6623,Npsi = 0.1 +/- 1.27194,Nbkg = 346.723 +/- 24.1029)\n",
      "     getLogVal() top-level p.d.f evaluates to zero @ !refCoefNorm=(), !pdfs=(CBJpsi = 0/0.0906842,gausspsi2S = 0/0.0810466,backgroundPDF = -0.0161361/3.13368), !coefficients=(NJpsi = 153.223 +/- 19.6623,Npsi = 0.1 +/- 1.27194,Nbkg = 346.723 +/- 24.1029)\n",
      "     getLogVal() top-level p.d.f evaluates to zero @ !refCoefNorm=(), !pdfs=(CBJpsi = 0/0.0906842,gausspsi2S = 0/0.0810466,backgroundPDF = -0.00326909/3.13368), !coefficients=(NJpsi = 153.223 +/- 19.6623,Npsi = 0.1 +/- 1.27194,Nbkg = 346.723 +/- 24.1029)\n",
      "    ... (remaining 7 messages suppressed)\n",
      "RooNLLVar::nll_totPDF_data[ paramSet=(NJpsi,Nbkg,Npsi,a1,a2,a3,alphaJpsi,meanJpsi,meanpsi2S,nJpsi,sigmaJpsi) ]\n",
      "     function value is NAN @ paramSet=(NJpsi = 153.223 +/- 19.6623,Nbkg = 346.723 +/- 24.1029,Npsi = 0.1 +/- 1.27194,a1 = 1.87601 +/- 0.372316,a2 = -0.817882 +/- 0.0197948,a3 = 0.0807 +/- 0.00349449,alphaJpsi = 1.72116 +/- 0.358769,meanJpsi = 3.09343 +/- 0.0032961,meanpsi2S = 3.60392 +/- 0.133754,nJpsi = 1.25234 +/- 0.891628,sigmaJpsi = 0.0323329 +/- 0.00298939)\n",
      "\n",
      " MINUIT WARNING IN HESSE   \n",
      " ============== Negative diagonal element 9 in Error Matrix\n",
      " MINUIT WARNING IN HESSE   \n",
      " ============== 1.05756 added to diagonal of error matrix\n",
      " COVARIANCE MATRIX CALCULATED SUCCESSFULLY\n",
      " FCN=-2190.09 FROM HESSE     STATUS=OK            110 CALLS        1446 TOTAL\n",
      "                     EDM=4.79026e-05    STRATEGY= 1      ERROR MATRIX ACCURATE \n",
      "  EXT PARAMETER                                INTERNAL      INTERNAL  \n",
      "  NO.   NAME      VALUE            ERROR       STEP SIZE       VALUE   \n",
      "   1  NJpsi        1.53223e+02   1.97887e+01   7.22223e-05  -1.81892e+00\n",
      "   2  Nbkg         3.46723e+02   2.41961e+01   3.02876e-05  -1.73751e+00\n",
      "   3  Npsi         1.00000e-01   1.27202e+00   2.06164e-04  -1.57078e+00\n",
      "                                 WARNING -   - ABOVE PARAMETER IS AT LIMIT.\n",
      "   4  a1           1.99990e+00   3.13741e-05   3.44008e-01   1.56084e+00\n",
      "   5  a2          -8.17882e-01   3.54830e-02   2.68166e-06  -4.21294e-01\n",
      "   6  a3           8.07000e-02   6.23606e-03   4.38371e-07   4.03610e-02\n",
      "   7  alphaJpsi    1.72116e+00   3.55803e-01   6.00971e-05   3.51420e-01\n",
      "   8  meanJpsi     3.09343e+00   3.29629e-03   1.20083e-04   4.86068e-01\n",
      "   9  meanpsi2S    3.60392e+00   4.41657e-02   5.34127e-03  -1.85188e+00\n",
      "  10  nJpsi        1.25234e+00   8.93457e-01   3.54084e-04  -2.41326e+00\n",
      "  11  sigmaJpsi    3.23329e-02   2.98994e-03   1.06416e-04  -1.93184e+00\n",
      "                               ERR DEF= 0.5\n",
      " EXTERNAL ERROR MATRIX.    NDIM=  25    NPAR= 11    ERR DEF=0.5\n",
      "  3.916e+02 \n",
      " -2.386e+02  5.855e+02 \n",
      " -7.199e-06  1.548e-05  2.021e-06 \n",
      " -7.350e-05  7.354e-05  2.056e-12  9.843e-10 \n",
      " -1.489e-01  1.489e-01 -5.900e-09  1.841e-07  1.259e-03 \n",
      "  2.058e-02 -2.057e-02  1.327e-09 -2.569e-08 -2.196e-04  3.889e-05 \n",
      " -6.272e-01  6.277e-01  5.501e-09  2.936e-07  1.028e-03 -1.643e-04  1.268e-01 \n",
      " -3.235e-03  3.237e-03  4.348e-11  8.769e-10  1.300e-06 -1.557e-07 -3.025e-06  1.087e-05 \n",
      "  1.004e-04 -2.784e-04 -2.437e-08  1.232e-11  3.585e-07 -6.645e-08  1.057e-07 -5.980e-10  7.695e-04 \n",
      " -1.071e+01  1.071e+01  2.271e-07  3.615e-06  8.651e-03 -1.264e-03  2.242e-01  1.612e-04 -2.431e-06  8.876e-01 \n",
      "  6.814e-03 -6.829e-03 -2.011e-09 -1.403e-09  6.740e-08 -1.586e-07  2.586e-05  1.991e-07  3.471e-08  9.916e-05  8.941e-06 \n",
      " PARAMETER  CORRELATION COEFFICIENTS  \n",
      "       NO.  GLOBAL      1      2      3      4      5      6      7      8      9     10     11\n",
      "        1  0.72068   1.000 -0.498 -0.000 -0.118 -0.212  0.167 -0.089 -0.050  0.000 -0.574  0.115\n",
      "        2  0.59550  -0.498  1.000  0.000  0.097  0.173 -0.136  0.073  0.041 -0.000  0.470 -0.094\n",
      "        3  0.00091  -0.000  0.000  1.000  0.000 -0.000  0.000  0.000  0.000 -0.001  0.000 -0.000\n",
      "        4  0.31062  -0.118  0.097  0.000  1.000  0.165 -0.131  0.026  0.008  0.000  0.122 -0.015\n",
      "        5  0.99428  -0.212  0.173 -0.000  0.165  1.000 -0.992  0.081  0.011  0.000  0.259  0.001\n",
      "        6  0.99407   0.167 -0.136  0.000 -0.131 -0.992  1.000 -0.074 -0.008 -0.000 -0.215 -0.009\n",
      "        7  0.79000  -0.089  0.073  0.000  0.026  0.081 -0.074  1.000 -0.003  0.000  0.668  0.024\n",
      "        8  0.07506  -0.050  0.041  0.000  0.008  0.011 -0.008 -0.003  1.000 -0.000  0.052  0.020\n",
      "        9  0.00094   0.000 -0.000 -0.001  0.000  0.000 -0.000  0.000 -0.000  1.000 -0.000  0.000\n",
      "       10  0.88202  -0.574  0.470  0.000  0.122  0.259 -0.215  0.668  0.052 -0.000  1.000  0.035\n",
      "       11  0.22626   0.115 -0.094 -0.000 -0.015  0.001 -0.009  0.024  0.020  0.000  0.035  1.000\n",
      "[#1] INFO:Minization -- RooMinimizer::optimizeConst: deactivating const optimization\n"
     ]
    }
   ],
   "source": [
    "totPDF.fitTo(dataset, ROOT.RooFit.Extended(1))"
   ]
  },
  {
   "cell_type": "markdown",
   "metadata": {},
   "source": [
    "# Imprimir valores dos parâmetros (que agora refletem os valores ajustados e erros)"
   ]
  },
  {
   "cell_type": "code",
   "execution_count": 16,
   "metadata": {},
   "outputs": [
    {
     "name": "stdout",
     "output_type": "stream",
     "text": [
      "RooRealVar::meanpsi2S = 3.60392 +/- 0.0441657  L(3.6 - 3.8) \n",
      "RooRealVar::NJpsi = 153.223 +/- 19.7887  L(0.1 - 10000) \n",
      "RooRealVar::Npsi = 0.1 +/- 1.27202  L(0.1 - 5000) \n"
     ]
    }
   ],
   "source": [
    "meanpsi2S.Print()\n",
    "NJpsi.Print()\n",
    "Npsi.Print()"
   ]
  },
  {
   "cell_type": "markdown",
   "metadata": {},
   "source": [
    "O resultado do ajuste é impresso como a saída normal do Minuit"
   ]
  },
  {
   "cell_type": "markdown",
   "metadata": {},
   "source": [
    "# Plotando os dados e o resultado do Fit"
   ]
  },
  {
   "cell_type": "markdown",
   "metadata": {},
   "source": [
    "# Fazendo o plot"
   ]
  },
  {
   "cell_type": "code",
   "execution_count": 17,
   "metadata": {
    "scrolled": false
   },
   "outputs": [
    {
     "name": "stderr",
     "output_type": "stream",
     "text": [
      "Info in <TCanvas::Print>: pdf file JPsi_InvMass_Fit.pdf has been created\n"
     ]
    },
    {
     "data": {
      "image/png": "[encoded data removed]",
      "text/plain": [
       "<IPython.core.display.Image object>"
      ]
     },
     "metadata": {},
     "output_type": "display_data"
    }
   ],
   "source": [
    "xframe = mass.frame()\n",
    "dataset.plotOn(xframe)\n",
    "totPDF.plotOn(xframe)\n",
    "\n",
    "c1 = ROOT.TCanvas()\n",
    "xframe.Draw()\n",
    "c1.SaveAs(\"JPsi_InvMass_Fit.pdf\")\n",
    "c1.Draw()"
   ]
  },
  {
   "cell_type": "code",
   "execution_count": 18,
   "metadata": {},
   "outputs": [
    {
     "name": "stdout",
     "output_type": "stream",
     "text": [
      "[#1] INFO:ObjectHandling -- RooWorkspace::import(ws) importing dataset data\n",
      "[#1] INFO:ObjectHandling -- RooWorkspace::import(ws) importing RooRealVar::mass\n",
      "[#1] INFO:ObjectHandling -- RooWorkspace::import(ws) importing RooAddPdf::totPDF\n",
      "[#1] INFO:ObjectHandling -- RooWorkspace::import(ws) importing RooCBShape::CBJpsi\n",
      "[#1] INFO:ObjectHandling -- RooWorkspace::import(ws) importing RooRealVar::meanJpsi\n",
      "[#1] INFO:ObjectHandling -- RooWorkspace::import(ws) importing RooRealVar::sigmaJpsi\n",
      "[#1] INFO:ObjectHandling -- RooWorkspace::import(ws) importing RooRealVar::alphaJpsi\n",
      "[#1] INFO:ObjectHandling -- RooWorkspace::import(ws) importing RooRealVar::nJpsi\n",
      "[#1] INFO:ObjectHandling -- RooWorkspace::import(ws) importing RooRealVar::NJpsi\n",
      "[#1] INFO:ObjectHandling -- RooWorkspace::import(ws) importing RooGaussian::gausspsi2S\n",
      "[#1] INFO:ObjectHandling -- RooWorkspace::import(ws) importing RooRealVar::meanpsi2S\n",
      "[#1] INFO:ObjectHandling -- RooWorkspace::import(ws) importing RooRealVar::Npsi\n",
      "[#1] INFO:ObjectHandling -- RooWorkspace::import(ws) importing RooPolynomial::backgroundPDF\n",
      "[#1] INFO:ObjectHandling -- RooWorkspace::import(ws) importing RooRealVar::a1\n",
      "[#1] INFO:ObjectHandling -- RooWorkspace::import(ws) importing RooRealVar::a2\n",
      "[#1] INFO:ObjectHandling -- RooWorkspace::import(ws) importing RooRealVar::a3\n",
      "[#1] INFO:ObjectHandling -- RooWorkspace::import(ws) importing RooRealVar::Nbkg\n"
     ]
    }
   ],
   "source": [
    "ws = ROOT.RooWorkspace(\"ws\")\n",
    "getattr(ws,'import')(dataset)\n",
    "getattr(ws,'import')(totPDF)\n",
    "\n",
    "fOutput = ROOT.TFile(\"mumufit_Jpsi_ex2.root\",\"RECREATE\")\n",
    "ws.Write()\n",
    "fOutput.Write()\n",
    "fOutput.Close()"
   ]
  }
 ],
 "metadata": {
  "kernelspec": {
   "display_name": "Python 3",
   "language": "python",
   "name": "python3"
  },
  "language_info": {
   "codemirror_mode": {
    "name": "ipython",
    "version": 3
   },
   "file_extension": ".py",
   "mimetype": "text/x-python",
   "name": "python",
   "nbconvert_exporter": "python",
   "pygments_lexer": "ipython3",
   "version": "3.7.6"
  }
 },
 "nbformat": 4,
 "nbformat_minor": 4
}
